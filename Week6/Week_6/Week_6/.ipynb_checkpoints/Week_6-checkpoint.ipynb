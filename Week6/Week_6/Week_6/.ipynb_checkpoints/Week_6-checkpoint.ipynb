{
 "cells": [
  {
   "cell_type": "code",
   "execution_count": null,
   "id": "treated-pepper",
   "metadata": {},
   "outputs": [],
   "source": [
    "import numpy as np\n",
    "\n",
    "x1 = np.random.rand(10)\n",
    "x2 = np.random.rand(10)\n",
    "x3 = np.random.rand(10)\n",
    "\n",
    "print(np.corrcoef([x1,x2,x3]))"
   ]
  },
  {
   "cell_type": "markdown",
   "id": "intelligent-germany",
   "metadata": {},
   "source": [
    "# Exercise 1"
   ]
  },
  {
   "cell_type": "markdown",
   "id": "directed-egyptian",
   "metadata": {},
   "source": [
    "Find the relationship between the descriptors listed below and boiling point of a molecule.\n",
    "\n",
    "(1) univariate analysis - correlation between each descriptor and boiling point\n",
    "\n",
    "(2) bivariate analysis - correlation between a pair of descriptors\n",
    "\n",
    "(3) Descriptor - boiling point scatter plot\n",
    "\n",
    "(4) Heat map of Pearson corr. coeff. values"
   ]
  },
  {
   "cell_type": "code",
   "execution_count": null,
   "id": "royal-creation",
   "metadata": {},
   "outputs": [],
   "source": [
    "import pandas as pd\n",
    "from rdkit import Chem\n",
    "from rdkit.Chem.GraphDescriptors import BalabanJ, BertzCT, Chi0, Chi1\n",
    "from rdkit.Chem.rdMolDescriptors import CalcTPSA\n",
    "\n",
    "# We will cover pandas soon..\n",
    "df = pd.read_csv('BP.csv')\n",
    "list_smiles = list(df['canonical_smiles'])\n",
    "list_BP = list(df['BP'])"
   ]
  },
  {
   "cell_type": "markdown",
   "id": "electrical-resolution",
   "metadata": {},
   "source": [
    "# Matplotlib, seaborn examples"
   ]
  },
  {
   "cell_type": "code",
   "execution_count": null,
   "id": "lesser-sessions",
   "metadata": {},
   "outputs": [],
   "source": [
    "import matplotlib.pyplot as plt\n",
    "import seaborn as sns\n",
    "sns.set(context='talk', style='ticks',\n",
    "        color_codes=True, rc={'legend.frameon': False})\n",
    "%matplotlib inline\n",
    "\n",
    "fig,ax = plt.subplots()\n",
    "fig.set_figheight(5)\n",
    "fig.set_figwidth(5)\n",
    "\n",
    "ax.set_xlim([0.0,1.0])\n",
    "ax.set_ylim([0.0,1.0])\n",
    "ax.set_xticks(np.arange(0.0,1.0,0.1))\n",
    "ax.set_yticks(np.arange(0.0,1.0,0.1))\n",
    "\n",
    "plt.rcParams[\"font.family\"] = 'Arial'\n",
    "plt.rcParams.update({'font.size': 20})\n",
    "\n",
    "plt.xlabel('x1')\n",
    "plt.ylabel('x2')\n",
    "\n",
    "plt.scatter(np.random.rand(10),np.random.rand(10), s = 20)"
   ]
  },
  {
   "cell_type": "code",
   "execution_count": null,
   "id": "massive-teacher",
   "metadata": {},
   "outputs": [],
   "source": [
    "sns.set(style=\"white\", font_scale=2)\n",
    "\n",
    "x1 = np.random.rand(10)\n",
    "x2 = np.random.rand(10)\n",
    "x3 = np.random.rand(10)\n",
    "x4 = np.random.rand(10)\n",
    "\n",
    "# Compute the correlation matrix\n",
    "corr = np.corrcoef([x1,x2,x3,x4])\n",
    "\n",
    "# Generate a mask for the upper triangle\n",
    "mask = np.zeros_like(corr, dtype=np.bool)\n",
    "mask[np.triu_indices_from(mask)] = True\n",
    "\n",
    "# Set up the matplotlib figure\n",
    "f, ax = plt.subplots()\n",
    "\n",
    "# Generate a custom diverging colormap\n",
    "cmap = sns.diverging_palette(220, 10, as_cmap=True)\n",
    "\n",
    "# Draw the heatmap with the mask and correct aspect ratio\n",
    "ax=sns.heatmap(corr, mask=mask, cmap=cmap, vmin=-1, vmax=1, center=0, annot=True, fmt='.2f',\n",
    "            square=False, linewidths=1.5, cbar_kws={\"shrink\": .5}, annot_kws={\"size\": 16})\n",
    "ax.set_xticklabels(['x1','x2','x3','x4'],rotation=45);\n",
    "ax.set_yticklabels(['x1','x2','x3','x4'],rotation=45);"
   ]
  },
  {
   "cell_type": "code",
   "execution_count": null,
   "id": "detected-webster",
   "metadata": {},
   "outputs": [],
   "source": [
    "sns.set(style=\"white\", font_scale=1)\n",
    "\n",
    "# Compute the correlation matrix\n",
    "corr = [np.random.rand(10)]\n",
    "\n",
    "f, ax = plt.subplots()\n",
    "#f.set_size_inches(25.0, 10.0)\n",
    "\n",
    "# Generate a custom diverging colormap\n",
    "cmap = sns.diverging_palette(220, 10, as_cmap=True)\n",
    "\n",
    "# Draw the heatmap with the mask and correct aspect ratio\n",
    "ax=sns.heatmap(corr, cmap=cmap, vmin=-.5, vmax=.5, center=0, annot=True, fmt='.2f',\n",
    "            square=True, linewidths=2.0, cbar_kws={\"shrink\": .5}, annot_kws={\"size\": 12})\n",
    "ax.set_xticklabels( range(0,10),rotation=45);\n",
    "ax.set_yticklabels(['y'],rotation=45);"
   ]
  },
  {
   "cell_type": "code",
   "execution_count": null,
   "id": "statutory-mother",
   "metadata": {},
   "outputs": [],
   "source": [
    "#cclib example\n",
    "#https://cclib.github.io/data.html\n",
    "import cclib\n",
    "\n",
    "data = cclib.io.ccread('g16log_example1.log')\n",
    "print(data.optdone, data.atomcoords[-1])\n",
    "#vibfreqs, atomnos, enthalpy, freeenergy\n",
    "#homos, moenergies\n"
   ]
  },
  {
   "cell_type": "code",
   "execution_count": null,
   "id": "furnished-louis",
   "metadata": {},
   "outputs": [],
   "source": [
    "data = cclib.io.ccread('OH.log')\n",
    "print(data.homos)\n",
    "print(data.moenergies)"
   ]
  },
  {
   "cell_type": "markdown",
   "id": "reduced-turkish",
   "metadata": {},
   "source": [
    "# Exercise 2"
   ]
  },
  {
   "cell_type": "markdown",
   "id": "latest-nelson",
   "metadata": {},
   "source": [
    "Find the correlation between the difference of chemical hardness (HOMO-LUMO gap) between sugar and catalyst, and HMF yield. What's the value of Pearson correlation coefficient?\n",
    "\n",
    "For unrestricted calculations, you will obtain two HOMO-LUMO gaps. Please use the larger one. (The larger one leads to smaller difference of chemical hardness with the sugar part)"
   ]
  },
  {
   "cell_type": "code",
   "execution_count": null,
   "id": "harmful-ordinance",
   "metadata": {},
   "outputs": [],
   "source": [
    "import cclib\n",
    "import glob\n",
    "\n",
    "HMF_yield = {'Al': 68.0, 'Co2':35.0,'Cr':65.6,'Cu2':31.6,'Fe2':31.8,'Fe3': 25.5}"
   ]
  },
  {
   "cell_type": "markdown",
   "id": "returning-camcorder",
   "metadata": {},
   "source": [
    "# Assignment Week 6"
   ]
  },
  {
   "cell_type": "markdown",
   "id": "awful-alignment",
   "metadata": {},
   "source": [
    "(1) Find any (free) physical/chemical property database you're interested in.\n",
    "\n",
    "(2) Generate descriptors, and do univariate, bivariate analysis. You can use your chemical intuition to downselect descriptors. Also, the descriptors do not need to be limited to those in RDKit.\n",
    "\n",
    "If you have no clear idea about how to find the database and what database you're interested in, please reach out to me. I can share some files I have:)"
   ]
  },
  {
   "cell_type": "code",
   "execution_count": null,
   "id": "phantom-kentucky",
   "metadata": {},
   "outputs": [],
   "source": []
  }
 ],
 "metadata": {
  "kernelspec": {
   "display_name": "Python 3",
   "language": "python",
   "name": "python3"
  },
  "language_info": {
   "codemirror_mode": {
    "name": "ipython",
    "version": 3
   },
   "file_extension": ".py",
   "mimetype": "text/x-python",
   "name": "python",
   "nbconvert_exporter": "python",
   "pygments_lexer": "ipython3",
   "version": "3.7.9"
  }
 },
 "nbformat": 4,
 "nbformat_minor": 5
}
