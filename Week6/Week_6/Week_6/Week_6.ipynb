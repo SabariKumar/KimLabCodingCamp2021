{
 "cells": [
  {
   "cell_type": "code",
   "execution_count": 1,
   "metadata": {},
   "outputs": [
    {
     "name": "stdout",
     "output_type": "stream",
     "text": [
      "[[ 1.          0.33184428  0.52552201]\n",
      " [ 0.33184428  1.         -0.0794738 ]\n",
      " [ 0.52552201 -0.0794738   1.        ]]\n"
     ]
    }
   ],
   "source": [
    "import numpy as np\n",
    "\n",
    "x1 = np.random.rand(10)\n",
    "x2 = np.random.rand(10)\n",
    "x3 = np.random.rand(10)\n",
    "\n",
    "print(np.corrcoef([x1,x2,x3]))"
   ]
  },
  {
   "cell_type": "markdown",
   "metadata": {},
   "source": [
    "# Exercise 1"
   ]
  },
  {
   "cell_type": "markdown",
   "metadata": {},
   "source": [
    "Find the relationship between the descriptors listed below and boiling point of a molecule.\n",
    "\n",
    "(1) univariate analysis - correlation between each descriptor and boiling point\n",
    "\n",
    "(2) bivariate analysis - correlation between a pair of descriptors\n",
    "\n",
    "(3) Descriptor - boiling point scatter plot\n",
    "\n",
    "(4) Heat map of Pearson corr. coeff. values"
   ]
  },
  {
   "cell_type": "code",
   "execution_count": 22,
   "metadata": {},
   "outputs": [
    {
     "name": "stdout",
     "output_type": "stream",
     "text": [
      "[[1.         0.20752864 0.4444438  0.12411413 0.19977474]\n",
      " [0.20752864 1.         0.56386362 0.63988652 0.40589556]\n",
      " [0.4444438  0.56386362 1.         0.90375714 0.72187375]\n",
      " [0.12411413 0.63988652 0.90375714 1.         0.74827042]\n",
      " [0.19977474 0.40589556 0.72187375 0.74827042 1.        ]]\n",
      "Boiling Point vs. Balaban J: \n",
      "[[1.         0.19977474]\n",
      " [0.19977474 1.        ]]\n",
      "Boiling Point vs. Bertz CT: \n",
      "[[1.         0.40589556]\n",
      " [0.40589556 1.        ]]\n",
      "Boiling Point vs. Chi 0: \n",
      "[[1.         0.72187375]\n",
      " [0.72187375 1.        ]]\n",
      "Boiling Point vs. Chi 1: \n",
      "[[1.         0.74827042]\n",
      " [0.74827042 1.        ]]\n",
      "Balaban J vs. Bertz CT:\n"
     ]
    }
   ],
   "source": [
    "import pandas as pd\n",
    "from rdkit import Chem\n",
    "from rdkit.Chem.GraphDescriptors import BalabanJ, BertzCT, Chi0, Chi1\n",
    "from rdkit.Chem.rdMolDescriptors import CalcTPSA\n",
    "\n",
    "# We will cover pandas soon..\n",
    "df = pd.read_csv('BP.csv')\n",
    "list_smiles = list(df['canonical_smiles'])\n",
    "list_BP = list(df['BP'])\n",
    "list_molec = []\n",
    "list_descriptors = []\n",
    "list_Balaban = []\n",
    "list_BertzCT = []\n",
    "list_Chi0 = []\n",
    "list_Chi1 = []\n",
    "\n",
    "#Getting a list of mol objects\n",
    "for molec in list_smiles:\n",
    "    mol = Chem.MolFromSmiles(molec)\n",
    "    list_molec.append(mol)\n",
    "     \n",
    "\n",
    "#Getting descriptors\n",
    "for mol in list_molec:\n",
    "    list_Balaban.append(BalabanJ(mol))\n",
    "    list_BertzCT.append(BertzCT(mol))\n",
    "    list_Chi0.append(Chi0(mol))\n",
    "    list_Chi1.append(Chi1(mol))\n",
    "    \n",
    "x_and_y = [list_Balaban, list_BertzCT, list_Chi0, list_Chi1, list_BP]\n",
    "corr_matrix = np.corrcoef(x_and_y)\n",
    "print(corr_matrix)\n",
    "    \n",
    "#Univariate\n",
    "print('Boiling Point vs. Balaban J: \\n{}'.format(np.corrcoef([list_BP, list_Balaban])))\n",
    "print('Boiling Point vs. Bertz CT: \\n{}'.format(np.corrcoef([list_BP, list_BertzCT])))\n",
    "print('Boiling Point vs. Chi 0: \\n{}'.format(np.corrcoef([list_BP, list_Chi0])))\n",
    "print('Boiling Point vs. Chi 1: \\n{}'.format(np.corrcoef([list_BP, list_Chi1])))\n",
    "\n",
    "#Bivariate\n",
    "print('Balaban J vs. Bertz CT:')"
   ]
  },
  {
   "cell_type": "markdown",
   "metadata": {},
   "source": [
    "# Matplotlib, seaborn examples"
   ]
  },
  {
   "cell_type": "code",
   "execution_count": 4,
   "metadata": {},
   "outputs": [
    {
     "data": {
      "text/plain": [
       "<matplotlib.collections.PathCollection at 0x7fe0e79e5a20>"
      ]
     },
     "execution_count": 4,
     "metadata": {},
     "output_type": "execute_result"
    },
    {
     "data": {
      "image/png": "[encoded data removed]",
      "text/plain": [
       "<Figure size 360x360 with 1 Axes>"
      ]
     },
     "metadata": {
      "needs_background": "light"
     },
     "output_type": "display_data"
    }
   ],
   "source": [
    "import matplotlib.pyplot as plt\n",
    "import seaborn as sns\n",
    "sns.set(context='talk', style='ticks',\n",
    "        color_codes=True, rc={'legend.frameon': False})\n",
    "%matplotlib inline\n",
    "\n",
    "fig,ax = plt.subplots()\n",
    "fig.set_figheight(5)\n",
    "fig.set_figwidth(5)\n",
    "\n",
    "ax.set_xlim([0.0,1.0])\n",
    "ax.set_ylim([0.0,1.0])\n",
    "ax.set_xticks(np.arange(0.0,1.0,0.1))\n",
    "ax.set_yticks(np.arange(0.0,1.0,0.1))\n",
    "\n",
    "plt.rcParams[\"font.family\"] = 'Arial'\n",
    "plt.rcParams.update({'font.size': 20})\n",
    "\n",
    "plt.xlabel('x1')\n",
    "plt.ylabel('x2')\n",
    "\n",
    "plt.scatter(np.random.rand(10),np.random.rand(10), s = 20)"
   ]
  },
  {
   "cell_type": "code",
   "execution_count": 23,
   "metadata": {},
   "outputs": [
    {
     "data": {
      "image/png": "[encoded data removed]",
      "text/plain": [
       "<Figure size 432x288 with 2 Axes>"
      ]
     },
     "metadata": {},
     "output_type": "display_data"
    }
   ],
   "source": [
    "sns.set(style=\"white\", font_scale=2)\n",
    "\n",
    "x1 = np.random.rand(10)\n",
    "x2 = np.random.rand(10)\n",
    "x3 = np.random.rand(10)\n",
    "x4 = np.random.rand(10)\n",
    "\n",
    "# Compute the correlation matrix\n",
    "corr = np.corrcoef([x1,x2,x3,x4])\n",
    "\n",
    "# Generate a mask for the upper triangle\n",
    "mask = np.zeros_like(corr, dtype=np.bool)\n",
    "mask[np.triu_indices_from(mask)] = True\n",
    "\n",
    "# Set up the matplotlib figure\n",
    "f, ax = plt.subplots()\n",
    "\n",
    "# Generate a custom diverging colormap\n",
    "cmap = sns.diverging_palette(220, 10, as_cmap=True)\n",
    "\n",
    "# Draw the heatmap with the mask and correct aspect ratio\n",
    "ax=sns.heatmap(corr, mask=mask, cmap=cmap, vmin=-1, vmax=1, center=0, annot=True, fmt='.2f',\n",
    "            square=False, linewidths=1.5, cbar_kws={\"shrink\": .5}, annot_kws={\"size\": 16})\n",
    "ax.set_xticklabels(['x1','x2','x3','x4'],rotation=45);\n",
    "ax.set_yticklabels(['x1','x2','x3','x4'],rotation=45);"
   ]
  },
  {
   "cell_type": "code",
   "execution_count": null,
   "metadata": {},
   "outputs": [],
   "source": [
    "sns.set(style=\"white\", font_scale=1)\n",
    "\n",
    "# Compute the correlation matrix\n",
    "corr = [np.random.rand(10)]\n",
    "\n",
    "f, ax = plt.subplots()\n",
    "#f.set_size_inches(25.0, 10.0)\n",
    "\n",
    "# Generate a custom diverging colormap\n",
    "cmap = sns.diverging_palette(220, 10, as_cmap=True)\n",
    "\n",
    "# Draw the heatmap with the mask and correct aspect ratio\n",
    "ax=sns.heatmap(corr, cmap=cmap, vmin=-.5, vmax=.5, center=0, annot=True, fmt='.2f',\n",
    "            square=True, linewidths=2.0, cbar_kws={\"shrink\": .5}, annot_kws={\"size\": 12})\n",
    "ax.set_xticklabels( range(0,10),rotation=45);\n",
    "ax.set_yticklabels(['y'],rotation=45);"
   ]
  },
  {
   "cell_type": "code",
   "execution_count": 6,
   "metadata": {},
   "outputs": [
    {
     "name": "stdout",
     "output_type": "stream",
     "text": [
      "True [[ 5.635265e+00  7.618830e-01 -1.772760e-01]\n",
      " [ 4.270939e+00  6.916670e-01  5.135640e-01]\n",
      " [ 3.208127e+00 -2.928800e-02 -3.229250e-01]\n",
      " [ 1.842349e+00 -1.009570e-01  3.663690e-01]\n",
      " [ 7.931880e-01 -8.189140e-01 -4.717320e-01]\n",
      " [-4.249620e-01 -8.375020e-01  2.397990e-01]\n",
      " [-1.473827e+00 -1.481211e+00 -4.534280e-01]\n",
      " [-2.737511e+00 -1.419784e+00  3.988690e-01]\n",
      " [-3.227934e+00  2.645000e-03  7.093720e-01]\n",
      " [-3.771926e+00  7.708070e-01 -5.013210e-01]\n",
      " [-4.295804e+00  2.162009e+00 -1.333280e-01]\n",
      " [ 6.372018e+00  1.281442e+00  4.433900e-01]\n",
      " [ 5.568898e+00  1.295712e+00 -1.131977e+00]\n",
      " [ 6.024967e+00 -2.405230e-01 -3.873650e-01]\n",
      " [ 4.374618e+00  1.829770e-01  1.481033e+00]\n",
      " [ 3.922090e+00  1.707306e+00  7.422670e-01]\n",
      " [ 3.105004e+00  4.798040e-01 -1.291606e+00]\n",
      " [ 3.557998e+00 -1.045687e+00 -5.523600e-01]\n",
      " [ 1.478879e+00  9.098560e-01  5.890600e-01]\n",
      " [ 1.932682e+00 -6.181400e-01  1.329525e+00]\n",
      " [ 6.622880e-01 -3.089050e-01 -1.442712e+00]\n",
      " [ 1.120951e+00 -1.849564e+00 -6.961110e-01]\n",
      " [-1.207682e+00 -2.532829e+00 -6.564740e-01]\n",
      " [-1.632934e+00 -9.996250e-01 -1.433362e+00]\n",
      " [-3.524877e+00 -1.985991e+00 -1.158780e-01]\n",
      " [-2.534310e+00 -1.945729e+00  1.339096e+00]\n",
      " [-2.403732e+00  5.665940e-01  1.161002e+00]\n",
      " [-4.016229e+00 -5.796500e-02  1.470957e+00]\n",
      " [-2.988770e+00  8.724240e-01 -1.262772e+00]\n",
      " [-4.577145e+00  1.880930e-01 -9.695050e-01]\n",
      " [-4.680448e+00  2.691956e+00 -1.010562e+00]\n",
      " [-3.503861e+00  2.777870e+00  3.072700e-01]\n",
      " [-5.107912e+00  2.097794e+00  5.997060e-01]]\n"
     ]
    }
   ],
   "source": [
    "#cclib example\n",
    "#https://cclib.github.io/data.html\n",
    "import cclib\n",
    "\n",
    "data = cclib.io.ccread('g16log_example1.log')\n",
    "print(data.optdone, data.atomcoords[-1])\n",
    "#vibfreqs, atomnos, enthalpy, freeenergy\n",
    "#homos, moenergies\n"
   ]
  },
  {
   "cell_type": "code",
   "execution_count": 26,
   "metadata": {},
   "outputs": [
    {
     "name": "stdout",
     "output_type": "stream",
     "text": [
      "[4 3]\n",
      "[array([-522.52553297,  -27.36458515,  -12.64023258,  -10.96972566,\n",
      "         -8.93621885,    2.03813274,   16.81854076,   21.72448137,\n",
      "         22.51769324,   22.92477556,   24.01921747,   24.91229513,\n",
      "         25.19719833,   25.23747118,   26.66960637,   51.08121202,\n",
      "         66.99905593,   67.40586614,   77.22318963,  109.67793647,\n",
      "        110.6961865 ,  110.71795561,  111.29783022,  123.67057489,\n",
      "        135.22534532,  135.24684232,  135.58616829,  135.59487593,\n",
      "        146.25139855,  147.62992731,  155.57728443,  172.54712049,\n",
      "        340.29524111]), array([-521.86184729,  -25.44155657,  -11.94933552,   -8.24151219,\n",
      "         -4.13096036,    2.27378333,   17.10344396,   23.14301087,\n",
      "         23.23661804,   23.79254663,   25.0886249 ,   25.61434886,\n",
      "         26.1515016 ,   26.26633365,   27.17519391,   51.28556952,\n",
      "         67.23497864,   67.30572824,   77.49285446,  111.66654449,\n",
      "        112.13294763,  113.02058301,  113.35664361,  124.46079351,\n",
      "        136.52251205,  136.65693629,  137.53668037,  137.61885875,\n",
      "        147.83673384,  147.91591897,  156.51798201,  173.92592137,\n",
      "        341.30369504])]\n"
     ]
    }
   ],
   "source": [
    "data = cclib.io.ccread('OH.log')\n",
    "print(data.homos)\n",
    "print(data.moenergies)\n",
    "i1, i2 = data.homos\n",
    "lumo_index1, lumo_index2 = i1+1, i2 + 1"
   ]
  },
  {
   "cell_type": "markdown",
   "metadata": {},
   "source": [
    "# Exercise 2"
   ]
  },
  {
   "cell_type": "markdown",
   "metadata": {},
   "source": [
    "Find the correlation between the difference of chemical hardness (HOMO-LUMO gap) between sugar and catalyst, and HMF yield. What's the value of Pearson correlation coefficient?\n",
    "\n",
    "For unrestricted calculations, you will obtain two HOMO-LUMO gaps. Please use the larger one. (The larger one leads to smaller difference of chemical hardness with the sugar part)"
   ]
  },
  {
   "cell_type": "code",
   "execution_count": 27,
   "metadata": {},
   "outputs": [
    {
     "name": "stdout",
     "output_type": "stream",
     "text": [
      "<cclib.parser.data.ccData_optdone_bool object at 0x7fe0e47e9e10>\n",
      "<cclib.parser.data.ccData_optdone_bool object at 0x7fe0e4981470>\n",
      "<cclib.parser.data.ccData_optdone_bool object at 0x7fe0e47e9cf8>\n",
      "<cclib.parser.data.ccData_optdone_bool object at 0x7fe0e49810b8>\n",
      "<cclib.parser.data.ccData_optdone_bool object at 0x7fe0e470bdd8>\n",
      "<cclib.parser.data.ccData_optdone_bool object at 0x7fe0e480ea58>\n",
      "<cclib.parser.data.ccData_optdone_bool object at 0x7fe0e4827f28>\n",
      "<cclib.parser.data.ccData_optdone_bool object at 0x7fe0e4bf96a0>\n",
      "<cclib.parser.data.ccData_optdone_bool object at 0x7fe0e4bf9550>\n",
      "<cclib.parser.data.ccData_optdone_bool object at 0x7fe0e4bf9b70>\n",
      "<cclib.parser.data.ccData_optdone_bool object at 0x7fe0e4bf9a20>\n",
      "<cclib.parser.data.ccData_optdone_bool object at 0x7fe0e4bf9da0>\n"
     ]
    }
   ],
   "source": [
    "import cclib\n",
    "import glob\n",
    "\n",
    "HMF_yield = {'Al': 68.0, 'Co2':35.0,'Cr':65.6,'Cu2':31.6,'Fe2':31.8,'Fe3': 25.5}\n",
    "\n",
    "for logfile in sorted(glob.glob('./g16_logs/*catal*log')):\n",
    "    data = cclib.io.ccread(logfile)\n",
    "    \n",
    "    \n",
    "for logfile in sorted(glob.glob('./g16_logs/*sugar*log')):\n",
    "    data = cclib.io.ccread(logfile)\n",
    "    print(data)\n"
   ]
  },
  {
   "cell_type": "markdown",
   "metadata": {},
   "source": [
    "# Assignment Week 6"
   ]
  },
  {
   "cell_type": "markdown",
   "metadata": {},
   "source": [
    "(1) Find any (free) physical/chemical property database you're interested in.\n",
    "\n",
    "(2) Generate descriptors, and do univariate, bivariate analysis. You can use your chemical intuition to downselect descriptors. Also, the descriptors do not need to be limited to those in RDKit.\n",
    "\n",
    "If you have no clear idea about how to find the database and what database you're interested in, please reach out to me. I can share some files I have:)"
   ]
  },
  {
   "cell_type": "code",
   "execution_count": null,
   "metadata": {},
   "outputs": [],
   "source": []
  }
 ],
 "metadata": {
  "kernelspec": {
   "display_name": "Python [conda env:rdKit]",
   "language": "python",
   "name": "conda-env-rdKit-py"
  },
  "language_info": {
   "codemirror_mode": {
    "name": "ipython",
    "version": 3
   },
   "file_extension": ".py",
   "mimetype": "text/x-python",
   "name": "python",
   "nbconvert_exporter": "python",
   "pygments_lexer": "ipython3",
   "version": "3.6.13"
  }
 },
 "nbformat": 4,
 "nbformat_minor": 5
}