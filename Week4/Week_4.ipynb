{
 "cells": [
  {
   "cell_type": "markdown",
   "id": "certain-access",
   "metadata": {},
   "source": [
    "# A few things about NumPy"
   ]
  },
  {
   "cell_type": "code",
   "execution_count": null,
   "id": "saved-commodity",
   "metadata": {},
   "outputs": [],
   "source": [
    "print([1,2,3] + [4,5,6])\n",
    "print(np.array([1,2,3]) + np.array([4,5,6]))\n",
    "\n",
    "a = np.zeros((3,3))\n",
    "b = np.zeros((3,3))\n",
    "\n",
    "a[1] = 1\n",
    "b[:,1] = 1\n",
    "c = np.arange(0,9).reshape(3,3)\n",
    "\n",
    "print(a)\n",
    "print(b)\n",
    "print(c)\n",
    "\n",
    "print(np.sum(c[1]))\n",
    "print(np.sum(c[:,2]))"
   ]
  },
  {
   "cell_type": "code",
   "execution_count": null,
   "id": "labeled-rogers",
   "metadata": {},
   "outputs": [],
   "source": [
    "a = np.array([1,2])\n",
    "b = np.array([3,4])\n",
    "np.linalg.norm(b-a, 2)"
   ]
  },
  {
   "cell_type": "code",
   "execution_count": null,
   "id": "authentic-prevention",
   "metadata": {},
   "outputs": [],
   "source": [
    "a = np.array([[1, 4, 3],\n",
    "              [4, 5, 6],\n",
    "              [3, 6, 9]])\n",
    "\n",
    "val, vec = np.linalg.eigh(a)\n",
    "\n",
    "print(val)\n",
    "print(np.sum(val))\n",
    "print(vec)"
   ]
  },
  {
   "cell_type": "code",
   "execution_count": null,
   "id": "quick-carry",
   "metadata": {},
   "outputs": [],
   "source": [
    "#matrix multiplication \n",
    "P = np.array([[0, 0, 1],\n",
    "              [1, 0, 0],\n",
    "              [0, 1, 0]])\n",
    "a2 = np.dot(np.dot(P,a), P.T)\n",
    "print(a2)\n",
    "val2, vec2 = np.linalg.eigh(a2)\n",
    "print(val2)\n",
    "print(vec2)\n",
    "\n",
    "print(np.isclose(val,val2))"
   ]
  },
  {
   "cell_type": "code",
   "execution_count": null,
   "id": "fallen-folder",
   "metadata": {},
   "outputs": [],
   "source": [
    "#elementwise multiplication\n",
    "a = np.array([[1, 2],\n",
    "              [3, 4]])\n",
    "print(np.multiply(a,a))\n",
    "print(np.dot(a,a))"
   ]
  },
  {
   "cell_type": "markdown",
   "id": "superb-contract",
   "metadata": {},
   "source": [
    "# Define functions"
   ]
  },
  {
   "cell_type": "code",
   "execution_count": null,
   "id": "amber-singing",
   "metadata": {},
   "outputs": [],
   "source": [
    "#RDKit has this function (rdkit.Chem.rdMolTransforms.GetBondLength), but just as an example:)\n",
    "def get_bond_length(a1_coord, a2_coord):\n",
    "    return np.linalg.norm(a1_coord - a2_coord, 2)\n",
    "\n",
    "print(get_bond_length(  np.array([0,0]),  \n",
    "                        np.array([3,4]))   )"
   ]
  },
  {
   "cell_type": "markdown",
   "id": "statistical-viking",
   "metadata": {},
   "source": [
    "# Exercise 1"
   ]
  },
  {
   "cell_type": "markdown",
   "id": "adopted-division",
   "metadata": {},
   "source": [
    "1. Define a function that takes covalent radii, atomic numbers, and 3d coordinates and returns a connectivity matrix \n",
    "\n",
    "2. Define a function that takes covalent radii, atomic numbers, 3d coordinates, ('continuous' or 'discretized') and returns a Coulomb matrix and its eigenvalues (continuous or discretized)\n",
    "\n",
    "3. Calculate connectivity matrix, discretized and continuous Coulomb matrices and their eigenvalues for the two ethane conformers."
   ]
  },
  {
   "cell_type": "code",
   "execution_count": null,
   "id": "forbidden-memphis",
   "metadata": {},
   "outputs": [],
   "source": [
    "#Dalton Trans., 2008, 2832-2838.\n",
    "#Covalent radii are also available in RDKit. We will use them later:)\n",
    "covalent_radii = {6:0.76, 1:0.31}\n",
    "\n",
    "#This sort of data can be easily read and processed by using cclib, pybel and rdkit, \n",
    "#but I thought that is beyond our scope today.\n",
    "#Today I wanted to focus more on numpy.\n",
    "#We will deal with 3d geometries using rdkit and cclib soon (next week or later)\n",
    "eth1_Z = [6, 1, 1, 1, 6, 1, 1, 1]\n",
    "eth1_coords = np.array([ [-0.35950280,1.56267809,-0.04562792],\n",
    "[-0.00284838,0.55386809,-0.04562792],\n",
    "[-0.00282996,2.06707628,-0.91927943],\n",
    "[-1.42950280,1.56269128,-0.04562792],\n",
    "[0.15383942,2.28863437,1.21177705],\n",
    "[1.22383761,2.28692730,1.21275540],\n",
    "[-0.20121714,3.29800738,1.21079966],\n",
    "[-0.20442955,1.78536637,2.08542725] ])\n",
    "\n",
    "eth2_Z = 2 * [6] + 6 * [1]\n",
    "eth2_coords = np.array([[-0.35950280,1.56267809,-0.04562792],\n",
    "[0.15383942,2.28863437,1.21177705],\n",
    "[-0.95555359,0.72314450,0.24558815],\n",
    "[0.47271315,1.22470551,-0.62708399],\n",
    "[-0.95234107,2.23578574,-0.62903933],\n",
    "[1.22383761,2.28692730,1.21275540],\n",
    "[-0.20121714,3.29800738,1.21079966],\n",
    "[-0.20442955,1.78536637,2.08542725]])"
   ]
  },
  {
   "cell_type": "markdown",
   "id": "proud-lesson",
   "metadata": {},
   "source": [
    "# Atom/bond features from SMILES"
   ]
  },
  {
   "cell_type": "code",
   "execution_count": null,
   "id": "matched-newport",
   "metadata": {},
   "outputs": [],
   "source": [
    "from rdkit import Chem\n",
    "mol = Chem.MolFromSmiles('CC(C)O')\n",
    "print(Chem.rdmolops.GetAdjacencyMatrix(mol))\n",
    "print(Chem.rdmolops.GetDistanceMatrix(mol))"
   ]
  },
  {
   "cell_type": "code",
   "execution_count": null,
   "id": "academic-cattle",
   "metadata": {},
   "outputs": [],
   "source": [
    "from rdkit.Chem.Draw import IPythonConsole\n",
    "IPythonConsole.drawOptions.addAtomIndices = True\n",
    "mol"
   ]
  },
  {
   "cell_type": "code",
   "execution_count": null,
   "id": "compliant-copper",
   "metadata": {},
   "outputs": [],
   "source": [
    "#https://github.com/NREL/nfp/blob/master/nfp/preprocessing/features.py\n",
    "from rdkit import Chem\n",
    "def atom_features_v1(atom):\n",
    "    \"\"\" Return an integer hash representing the atom type\n",
    "    \"\"\"\n",
    "\n",
    "    return str((\n",
    "        atom.GetSymbol(),\n",
    "        atom.GetDegree(),\n",
    "        atom.GetTotalNumHs(),\n",
    "        atom.GetImplicitValence(),\n",
    "        atom.GetIsAromatic(),\n",
    "    ))\n",
    "\n",
    "\n",
    "def atom_features_v2(atom):\n",
    "    props = ['GetChiralTag', 'GetDegree', 'GetExplicitValence',\n",
    "             'GetFormalCharge', 'GetHybridization', 'GetImplicitValence',\n",
    "             'GetIsAromatic', 'GetNoImplicit', 'GetNumExplicitHs',\n",
    "             'GetNumImplicitHs', 'GetNumRadicalElectrons', 'GetSymbol',\n",
    "             'GetTotalDegree', 'GetTotalNumHs', 'GetTotalValence']\n",
    "\n",
    "    atom_type = [getattr(atom, prop)() for prop in props]\n",
    "\n",
    "    return str(tuple(atom_type))\n",
    "\n",
    "def bond_features_v1(bond, **kwargs):\n",
    "    \"\"\" Return an integer hash representing the bond type.\n",
    "    \n",
    "    flipped : bool\n",
    "        Only valid for 'v3' version, whether to swap the begin and end atom types\n",
    "    \"\"\"\n",
    "\n",
    "    return str((\n",
    "        bond.GetBondType(),\n",
    "        bond.GetIsConjugated(),\n",
    "        bond.IsInRing(),\n",
    "        sorted([\n",
    "            bond.GetBeginAtom().GetSymbol(),\n",
    "            bond.GetEndAtom().GetSymbol()]),\n",
    "    ))\n",
    "\n",
    "\n",
    "mol = Chem.MolFromSmiles('CN1CCC23C4C1CC5=C2C(=C(C=C5)O)OC3C(C=C4)O')\n",
    "\n",
    "for atom in mol.GetAtoms():\n",
    "    print(atom_features_v1(atom))\n",
    "    #print(atom_features_v2(atom))\n",
    "\n",
    "for bond in mol.GetBonds():\n",
    "    print(bond_features_v1(bond))"
   ]
  },
  {
   "cell_type": "code",
   "execution_count": null,
   "id": "moved-major",
   "metadata": {},
   "outputs": [],
   "source": [
    "from rdkit.Chem.Draw import IPythonConsole\n",
    "IPythonConsole.drawOptions.addAtomIndices = True\n",
    "mol"
   ]
  },
  {
   "cell_type": "code",
   "execution_count": null,
   "id": "seventh-marine",
   "metadata": {},
   "outputs": [],
   "source": [
    "from rdkit.Chem.rdMolDescriptors \\\n",
    "import CalcNumRings, CalcNumAromaticRings, CalcNumAliphaticRings\n",
    "\n",
    "print(CalcNumRings(mol), CalcNumAromaticRings(mol), CalcNumAliphaticRings(mol))\n",
    "\n",
    "SSSR = Chem.GetSymmSSSR(mol)\n",
    "for sssr in SSSR:\n",
    "    print(list(sssr))"
   ]
  },
  {
   "cell_type": "markdown",
   "id": "colored-paper",
   "metadata": {},
   "source": [
    "# Assignment Week 4"
   ]
  },
  {
   "cell_type": "markdown",
   "id": "eligible-posting",
   "metadata": {},
   "source": [
    "One-hot encoding is one of the ways (not always the best way though) to vectorize the features that have different types (integer, float, boolean, etc.). \n",
    "\n",
    "(1) Write a function that takes (i) mol object, (ii) maximum number of atoms in a molecule, (iii) whether to consider explicit Hs (True or False) as input variables, and returns a list of one-hot vectors.\n",
    "\n",
    "An one-hot vector per each atom should contain those atom features:\n",
    "\n",
    "- If explicit_Hs = False (i.e. no AddHs) -> Symbols, Degrees, Total number of hydrogens bonded to an atom, IsInRing, IsAromatic\n",
    "\n",
    "- If explicit_Hs = True -> Symbols(including H), Degrees, IsInRing, IsAromatic\n",
    "\n",
    "- Zero vectors for (Max_atoms - # of atoms in a molecule) atoms\n",
    "\n",
    "Regardless of # of atoms in a molecule, the shape of the return array should be: (Max_atoms, dimension of an one-hot vector)\n",
    "\n",
    "(2) json-load './Week_3/exercise_2.json', and collect all the SMILES strings\n",
    "\n",
    "(3) Apply the def written in (1) (Max_atoms = it can be determined from the largest molecule in the data file, explicit_Hs = True)\n",
    "\n",
    "(4) How many unique atom types (i.e. one-hot vectors) in the data file?"
   ]
  },
  {
   "cell_type": "code",
   "execution_count": null,
   "id": "cubic-river",
   "metadata": {},
   "outputs": [],
   "source": []
  }
 ],
 "metadata": {
  "kernelspec": {
   "display_name": "Python 3",
   "language": "python",
   "name": "python3"
  },
  "language_info": {
   "codemirror_mode": {
    "name": "ipython",
    "version": 3
   },
   "file_extension": ".py",
   "mimetype": "text/x-python",
   "name": "python",
   "nbconvert_exporter": "python",
   "pygments_lexer": "ipython3",
   "version": "3.7.9"
  }
 },
 "nbformat": 4,
 "nbformat_minor": 5
}
