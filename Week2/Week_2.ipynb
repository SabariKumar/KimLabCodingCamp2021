{
 "cells": [
  {
   "cell_type": "markdown",
   "metadata": {},
   "source": [
    "# Int, float, str and casting"
   ]
  },
  {
   "cell_type": "code",
   "execution_count": null,
   "metadata": {},
   "outputs": [],
   "source": [
    "a = 1\n",
    "b = 2.0\n",
    "c = 'abc'\n",
    "d = '3.0'\n",
    "e = float(3.0)\n",
    "f = int(3.0)\n",
    "print(type(a), type(b), type(c))\n",
    "print(d,e,f)\n",
    "print(type(d), type(e), type(f))"
   ]
  },
  {
   "cell_type": "code",
   "execution_count": 1,
   "metadata": {},
   "outputs": [
    {
     "name": "stdout",
     "output_type": "stream",
     "text": [
      "8 2 15 1.6666666666666667 2\n",
      "abcdef\n"
     ]
    }
   ],
   "source": [
    "print(5+3, 5-3, 5*3, 5/3, 5%3)\n",
    "print('abc'+'def')"
   ]
  },
  {
   "cell_type": "markdown",
   "metadata": {},
   "source": [
    "# List and set"
   ]
  },
  {
   "cell_type": "code",
   "execution_count": 2,
   "metadata": {},
   "outputs": [
    {
     "name": "stdout",
     "output_type": "stream",
     "text": [
      "1 5 7\n",
      "6 9 3\n",
      "[7, 3, 9, 6] [1, 5, 7] [5, 7, 3]\n"
     ]
    }
   ],
   "source": [
    "#indexing\n",
    "l1 = [1, 5, 7, 3, 9, 6]\n",
    "\n",
    "print(l1[0],l1[1],l1[2])\n",
    "print(l1[-1],l1[-2],l1[-3])\n",
    "print(l1[2:], l1[:3], l1[1:4])"
   ]
  },
  {
   "cell_type": "code",
   "execution_count": 5,
   "metadata": {},
   "outputs": [
    {
     "name": "stdout",
     "output_type": "stream",
     "text": [
      "[1, 3, 5, 6, 7, 9]\n",
      "[9, 7, 6, 5, 3, 1]\n",
      "[1, 2, 3, 4, 5, 6]\n"
     ]
    }
   ],
   "source": [
    "# Strictly speaking, they are not 'lists', \n",
    "# but they look like lists and can be used like lists\n",
    "l2_1 = range(5)  # [0,1,2,3,4]\n",
    "l2_2 = range(1,4) # [1,2,3]\n",
    "l2_3 = range(10,-3,-2) # [10, 8, 6, 4, 2, 0, -2]\n",
    "\n",
    "\n",
    "l3 = [1,2.0,'CCC', '', 5] # int,str,float together\n",
    "\n",
    "print(sorted(l1))\n",
    "print(sorted(l1,reverse=True))\n",
    "\n",
    "print([1,2,3]+[4,5,6])\n"
   ]
  },
  {
   "cell_type": "code",
   "execution_count": 5,
   "metadata": {},
   "outputs": [
    {
     "name": "stdout",
     "output_type": "stream",
     "text": [
      "21 6 77\n",
      "Counter({4: 6, 2: 5, 1: 3, 5: 2, 6: 2, 3: 1, 7: 1, 8: 1})\n"
     ]
    }
   ],
   "source": [
    "l4 = [2,2,2,1,1,2,2,3,4,4,4,4,4,5,4,6,6,5,7,8,1]\n",
    "print(len(l4), l4.count(4), sum(l4))\n",
    "\n",
    "from collections import Counter\n",
    "print(Counter(l4))"
   ]
  },
  {
   "cell_type": "code",
   "execution_count": 8,
   "metadata": {},
   "outputs": [
    {
     "name": "stdout",
     "output_type": "stream",
     "text": [
      "{1, 2, 3, 4, 5, 6, 7, 8}\n",
      "{1, 3, 5, 6, 7}\n",
      "{1, 2, 3, 4, 5, 6, 7, 8, 9}\n",
      "{'e', 'd', 'b'}\n",
      "['c', 'e', 'h', 'i', 'm', 'r', 's', 't', 'y']\n"
     ]
    }
   ],
   "source": [
    "#list to set, duplicates removed\n",
    "s1 = set(l4)\n",
    "print(s1)\n",
    "print(s1 & set(l1))\n",
    "print(s1 | set(l1))\n",
    "\n",
    "#string to set\n",
    "s2 = set('abcde')\n",
    "s3 = set('bbbdefgg')\n",
    "print(s2 & s3)\n",
    "\n",
    "s4 = sorted(list(set('chemistry')))\n",
    "print(s4)"
   ]
  },
  {
   "cell_type": "code",
   "execution_count": 9,
   "metadata": {},
   "outputs": [
    {
     "name": "stdout",
     "output_type": "stream",
     "text": [
      "abcde\n",
      "a.b.c.d.e\n",
      "['a', 'b', 'c', 'd', 'e']\n"
     ]
    }
   ],
   "source": [
    "#list <-> string\n",
    "print(''.join(['a','b','c','d','e']))\n",
    "print('.'.join(['a','b','c','d','e']))\n",
    "print(list('abcde'))"
   ]
  },
  {
   "cell_type": "markdown",
   "metadata": {},
   "source": [
    "# Simplified molecular-input line-entry system (SMILES)\n",
    "https://www.daylight.com/dayhtml/doc/theory/theory.smiles.html"
   ]
  },
  {
   "cell_type": "markdown",
   "metadata": {},
   "source": [
    "# Exercise 1\n",
    "\n",
    "Below are the lists of SMILES strings of various molecules.\n",
    "\n",
    "(1) Merge those lists into one\n",
    "\n",
    "(2) Frequency of each molecule?\n",
    "\n",
    "(3) Remove duplicates\n",
    "\n",
    "(4) Sort them in alphabetical order"
   ]
  },
  {
   "cell_type": "code",
   "execution_count": 6,
   "metadata": {},
   "outputs": [
    {
     "name": "stdout",
     "output_type": "stream",
     "text": [
      "['CC(C)=O', 'O', 'CCCCCC', 'CO', 'CCCCC', 'ClC(Cl)Cl', 'C1CCOC1', 'O', 'CCC', 'OCCCCC', 'C', 'C(C)CCC', 'O', 'C1CCOC1', 'CCCCO', 'CO', 'O', 'CO']\n",
      "Counter({'O': 4, 'CO': 3, 'C1CCOC1': 2, 'CC(C)=O': 1, 'CCCCCC': 1, 'CCCCC': 1, 'ClC(Cl)Cl': 1, 'CCC': 1, 'OCCCCC': 1, 'C': 1, 'C(C)CCC': 1, 'CCCCO': 1})\n",
      "{'CCCCC', 'C(C)CCC', 'CC(C)=O', 'CCCCO', 'ClC(Cl)Cl', 'CO', 'OCCCCC', 'CCC', 'C1CCOC1', 'CCCCCC', 'C', 'O'}\n",
      "['C', 'C(C)CCC', 'C1CCOC1', 'CC(C)=O', 'CCC', 'CCCCC', 'CCCCCC', 'CCCCO', 'CO', 'ClC(Cl)Cl', 'O', 'OCCCCC']\n"
     ]
    }
   ],
   "source": [
    "list_1 = ['CC(C)=O', 'O', 'CCCCCC', 'CO', 'CCCCC']\n",
    "list_2 = ['ClC(Cl)Cl', 'C1CCOC1', 'O', 'CCC', 'OC' 'CCCC', 'C', 'C(C)CCC']\n",
    "list_3 = ['O', 'C1CCOC1', 'CCCCO', 'CO', 'O', 'CO']\n",
    "\n",
    "big_list = list_1 + list_2 + list_3\n",
    "print(big_list)\n",
    "print(Counter(big_list))\n",
    "unique_list = set(big_list)\n",
    "print(unique_list)\n",
    "print(sorted(list(unique_list)))"
   ]
  },
  {
   "cell_type": "markdown",
   "metadata": {},
   "source": [
    "# 'Mol' object"
   ]
  },
  {
   "cell_type": "code",
   "execution_count": 1,
   "metadata": {},
   "outputs": [
    {
     "name": "stdout",
     "output_type": "stream",
     "text": [
      "<rdkit.Chem.rdchem.Mol object at 0x7fba7c2a5e40>\n",
      "<class 'rdkit.Chem.rdchem.Mol'>\n",
      "None\n"
     ]
    },
    {
     "name": "stderr",
     "output_type": "stream",
     "text": [
      "RDKit ERROR: [16:51:29] SMILES Parse Error: syntax error while parsing: hahaha\n",
      "RDKit ERROR: [16:51:29] SMILES Parse Error: Failed parsing SMILES 'hahaha' for input: 'hahaha'\n"
     ]
    }
   ],
   "source": [
    "from rdkit import Chem\n",
    "mol1 = Chem.MolFromSmiles('CCO')\n",
    "print(mol1)\n",
    "print(type(mol1))\n",
    "\n",
    "#None if invalid\n",
    "print(Chem.MolFromSmiles('hahaha'))"
   ]
  },
  {
   "cell_type": "code",
   "execution_count": 7,
   "metadata": {},
   "outputs": [
    {
     "name": "stdout",
     "output_type": "stream",
     "text": [
      "46.069\n",
      "1\n",
      "-1\n"
     ]
    }
   ],
   "source": [
    "from rdkit.Chem.Descriptors import MolWt, NumRadicalElectrons\n",
    "from rdkit.Chem.rdmolops import GetFormalCharge\n",
    "\n",
    "mol2 = Chem.MolFromSmiles('CC[O]')\n",
    "mol3 = Chem.MolFromSmiles('CC[O-]')\n",
    "\n",
    "print(MolWt(mol1))\n",
    "print(NumRadicalElectrons(mol2))\n",
    "print(GetFormalCharge(mol3))"
   ]
  },
  {
   "cell_type": "code",
   "execution_count": 8,
   "metadata": {},
   "outputs": [
    {
     "name": "stdout",
     "output_type": "stream",
     "text": [
      "CCCC(C)C\n",
      "CCCC(C)C\n",
      "CCCC(C)C\n",
      "AFABGHUZZDYHJO-UHFFFAOYSA-N\n",
      "AFABGHUZZDYHJO-UHFFFAOYSA-N\n",
      "AFABGHUZZDYHJO-UHFFFAOYSA-N\n"
     ]
    }
   ],
   "source": [
    "# In general, due to many possible permutations of atom and bonds, \n",
    "# two or more smiles strings can correspond to one molecule\n",
    "# mol object -> Chem.MolToSmiles -> canonical SMILES string\n",
    "\n",
    "smi4_1 = '[CH3][CH]([CH3])[CH2][CH2][CH3]'\n",
    "smi4_2 = 'CCCC(C)C'\n",
    "smi4_3 = 'CC(CCC)C'\n",
    "\n",
    "mol4_1 = Chem.MolFromSmiles(smi4_1)\n",
    "mol4_2 = Chem.MolFromSmiles(smi4_2)\n",
    "mol4_3 = Chem.MolFromSmiles(smi4_3)\n",
    "\n",
    "print(Chem.MolToSmiles(mol4_1))\n",
    "print(Chem.MolToSmiles(mol4_2))\n",
    "print(Chem.MolToSmiles(mol4_3))\n",
    "\n",
    "# Duplicates can also be found by converting them into InchiKey \n",
    "print(Chem.MolToInchiKey(mol4_1))\n",
    "print(Chem.MolToInchiKey(mol4_2))\n",
    "print(Chem.MolToInchiKey(mol4_3))"
   ]
  },
  {
   "cell_type": "code",
   "execution_count": 11,
   "metadata": {},
   "outputs": [
    {
     "name": "stdout",
     "output_type": "stream",
     "text": [
      "<rdkit.Chem.rdchem._ROAtomSeq object at 0x7fba4fb4a620>\n"
     ]
    }
   ],
   "source": [
    "#The Mol object has various attributes (e.g. information about atom, bond, etc.)\n",
    "print(mol1.GetAtoms())\n",
    "# What's in mol.GetAtoms()?"
   ]
  },
  {
   "cell_type": "markdown",
   "metadata": {},
   "source": [
    "# for statements"
   ]
  },
  {
   "cell_type": "code",
   "execution_count": null,
   "metadata": {},
   "outputs": [],
   "source": [
    "for num in range(0,5):\n",
    "    print(num)\n",
    "\n",
    "list_1 = ['CC(C)=O', 'O', 'CCCCCC', 'CO', 'CCCCC']\n",
    "print('-----------------')\n",
    "for smi in list_1:\n",
    "    print(smi)\n",
    "\n",
    "print('-----------------')\n",
    "for num in l4:\n",
    "    print(num)\n",
    "    \n",
    "print('-----------------')\n",
    "for char in 'abc':\n",
    "    print(char)\n",
    "\n",
    "print('-----------------')\n",
    "for i, num in enumerate(l4):\n",
    "    print(i, num)\n",
    "    \n",
    "print('-----------------')   \n",
    "total = 0\n",
    "for i in range(1,101):\n",
    "    total += i\n",
    "print(total)\n",
    "\n",
    "print('-----------------')   \n",
    "list_2 = ['ClC(Cl)Cl', 'C1CCOC1', 'O', 'CCC', 'OC' 'CCCC', 'C', 'C(C)CCC']\n",
    "new_list = []\n",
    "for smi in list_2:\n",
    "    mol = Chem.MolFromSmiles(smi)\n",
    "    new_smi = Chem.MolToSmiles(mol)\n",
    "    new_list.append(new_smi)\n",
    "print(new_list)\n",
    "\n",
    "print('-----------------') \n",
    "mol = Chem.MolFromSmiles('CCO')\n",
    "for atom in mol.GetAtoms():\n",
    "    print(atom.GetSymbol(), atom.GetAtomicNum())"
   ]
  },
  {
   "cell_type": "markdown",
   "metadata": {},
   "source": [
    "# Exercise 2\n",
    "\n",
    "(1) Canonicalize the SMILES from Exercise 1, and remove duplicates again.\n",
    "\n",
    "Use for, MolFromSmiles, MolToSmiles, list, set\n",
    "\n",
    "(2) Calculate total number of electrons and spin multiplicity using GetAtomicNum().\n",
    "\n",
    "spin multiplicity : 1 if 0 unpaired electrons (i.e. even number of total electrons), 2 if 1 unpaired electron (i.e. odd number of total electrons) - This rule is not always right, but just for practicing"
   ]
  },
  {
   "cell_type": "code",
   "execution_count": 15,
   "metadata": {},
   "outputs": [
    {
     "name": "stdout",
     "output_type": "stream",
     "text": [
      "6\n",
      "12\n",
      "18\n",
      "24\n",
      "30\n",
      "6\n",
      "12\n",
      "18\n",
      "24\n",
      "30\n",
      "6\n",
      "12\n",
      "18\n",
      "26\n",
      "6\n",
      "12\n",
      "18\n",
      "24\n",
      "32\n",
      "17\n",
      "23\n",
      "40\n",
      "57\n",
      "6\n",
      "14\n",
      "8\n",
      "14\n",
      "20\n",
      "26\n",
      "32\n",
      "38\n",
      "6\n",
      "12\n",
      "18\n",
      "6\n",
      "12\n",
      "18\n",
      "26\n",
      "32\n",
      "6\n",
      "12\n",
      "18\n",
      "24\n",
      "30\n",
      "36\n",
      "6\n",
      "8\n"
     ]
    }
   ],
   "source": [
    "for molec in list(unique_list):\n",
    "    molecule = Chem.MolFromSmiles(molec)\n",
    "    molec = Chem.MolToSmiles(molecule)\n",
    "    atoms = molecule.GetAtoms()\n",
    "    total_elec = 0\n",
    "    \n",
    "    for atom in atoms:\n",
    "        total_elec += atom.GetAtomicNum()\n",
    "        print(total_elec)\n",
    "        \n",
    "#TODO: Finish this\n",
    "        \n"
   ]
  },
  {
   "cell_type": "markdown",
   "metadata": {},
   "source": [
    "# if statement"
   ]
  },
  {
   "cell_type": "code",
   "execution_count": 16,
   "metadata": {},
   "outputs": [
    {
     "name": "stdout",
     "output_type": "stream",
     "text": [
      "d is not in the string\n",
      "CC(C)=O MW>40\n",
      "O MW<20\n",
      "CCCCCC MW>40\n",
      "CO 20<MW<40\n",
      "CCCCC MW>40\n"
     ]
    }
   ],
   "source": [
    "tmp = 'abc'\n",
    "\n",
    "if 'd' in tmp:\n",
    "    print('d is in the string')\n",
    "else:\n",
    "    print('d is not in the string')\n",
    "\n",
    "from rdkit.Chem.Descriptors import MolWt\n",
    "list_1 = ['CC(C)=O', 'O', 'CCCCCC', 'CO', 'CCCCC']\n",
    "\n",
    "for smi in list_1:\n",
    "    mol = Chem.MolFromSmiles(smi)\n",
    "    \n",
    "    if MolWt(mol) < 20:\n",
    "        print(smi,'MW<20')\n",
    "    elif MolWt(mol) > 20 and MolWt(mol) < 40:\n",
    "        print(smi,'20<MW<40')\n",
    "    else:\n",
    "        print(smi,'MW>40')\n"
   ]
  },
  {
   "cell_type": "markdown",
   "metadata": {},
   "source": [
    "# Read files"
   ]
  },
  {
   "cell_type": "code",
   "execution_count": 17,
   "metadata": {},
   "outputs": [
    {
     "name": "stdout",
     "output_type": "stream",
     "text": [
      "---------- 0 ----------\n",
      "Beautiful is better than ugly.\n",
      "\n",
      "['Beautiful', 'is', 'better', 'than', 'ugly.']\n",
      "['Beautiful is better than ugly.\\n']\n",
      "['Beautiful is better than ugly.\\n']\n",
      "---------- 1 ----------\n",
      "Explicit is better than implicit.\n",
      "\n",
      "['Explicit', 'is', 'better', 'than', 'implicit.']\n",
      "['Explicit is better than implicit.\\n']\n",
      "['Explicit is better than implicit.\\n']\n",
      "---------- 2 ----------\n",
      "Simple is better than complex.\n",
      "\n",
      "['Simple', 'is', 'better', 'than', 'complex.']\n",
      "['Simple is better than complex.\\n']\n",
      "['Simple is better than complex.\\n']\n",
      "---------- 3 ----------\n",
      "Complex is better than complicated.\n",
      "\n",
      "['Complex', 'is', 'better', 'than', 'complicated.']\n",
      "['Complex is better than complicated.\\n']\n",
      "['Complex is better than complicated.\\n']\n",
      "---------- 4 ----------\n",
      "Flat is better than nested.\n",
      "\n",
      "['Flat', 'is', 'better', 'than', 'nested.']\n",
      "['Flat is better than nested.\\n']\n",
      "['Flat is better than nested.\\n']\n",
      "---------- 5 ----------\n",
      "Sparse is better than dense.\n",
      "\n",
      "['Sparse', 'is', 'better', 'than', 'dense.']\n",
      "['Sparse is better than dense.\\n']\n",
      "['Sparse is better than dense.\\n']\n",
      "---------- 6 ----------\n",
      "Readability counts.\n",
      "\n",
      "['Readability', 'counts.']\n",
      "['Readability counts.\\n']\n",
      "['Readability counts.\\n']\n",
      "---------- 7 ----------\n",
      "Special cases aren't special enough to break the rules.\n",
      "\n",
      "['Special', 'cases', \"aren't\", 'special', 'enough', 'to', 'break', 'the', 'rules.']\n",
      "[\"Special cases aren't special enough to break the rules.\\n\"]\n",
      "['Special cases aren', 't special enough to break the rules.\\n']\n",
      "---------- 8 ----------\n",
      "Although practicality beats purity.\n",
      "\n",
      "['Although', 'practicality', 'beats', 'purity.']\n",
      "['Although practicality beats purity.\\n']\n",
      "['Although practicality beats purity.\\n']\n",
      "---------- 9 ----------\n",
      "Errors should never pass silently.\n",
      "\n",
      "['Errors', 'should', 'never', 'pass', 'silently.']\n",
      "['Errors should never pass silently.\\n']\n",
      "['Errors should never pass silently.\\n']\n",
      "---------- 10 ----------\n",
      "Unless explicitly silenced.\n",
      "\n",
      "['Unless', 'explicitly', 'silenced.']\n",
      "['Unless explicitly silenced.\\n']\n",
      "['Unless explicitly silenced.\\n']\n",
      "---------- 11 ----------\n",
      "In the face of ambiguity, refuse the temptation to guess.\n",
      "\n",
      "['In', 'the', 'face', 'of', 'ambiguity,', 'refuse', 'the', 'temptation', 'to', 'guess.']\n",
      "['In the face of ambiguity', ' refuse the temptation to guess.\\n']\n",
      "['In the face of ambiguity, refuse the temptation to guess.\\n']\n",
      "---------- 12 ----------\n",
      "There should be one-- and preferably only one --obvious way to do it.\n",
      "\n",
      "['There', 'should', 'be', 'one--', 'and', 'preferably', 'only', 'one', '--obvious', 'way', 'to', 'do', 'it.']\n",
      "['There should be one-- and preferably only one --obvious way to do it.\\n']\n",
      "['There should be one-- and preferably only one --obvious way to do it.\\n']\n",
      "---------- 13 ----------\n",
      "Although that way may not be obvious at first unless you're Dutch.\n",
      "\n",
      "['Although', 'that', 'way', 'may', 'not', 'be', 'obvious', 'at', 'first', 'unless', \"you're\", 'Dutch.']\n",
      "[\"Although that way may not be obvious at first unless you're Dutch.\\n\"]\n",
      "['Although that way may not be obvious at first unless you', 're Dutch.\\n']\n",
      "---------- 14 ----------\n",
      "Now is better than never.\n",
      "\n",
      "['Now', 'is', 'better', 'than', 'never.']\n",
      "['Now is better than never.\\n']\n",
      "['Now is better than never.\\n']\n",
      "---------- 15 ----------\n",
      "Although never is often better than *right* now.\n",
      "\n",
      "['Although', 'never', 'is', 'often', 'better', 'than', '*right*', 'now.']\n",
      "['Although never is often better than *right* now.\\n']\n",
      "['Although never is often better than *right* now.\\n']\n",
      "---------- 16 ----------\n",
      "If the implementation is hard to explain, it's a bad idea.\n",
      "\n",
      "['If', 'the', 'implementation', 'is', 'hard', 'to', 'explain,', \"it's\", 'a', 'bad', 'idea.']\n",
      "['If the implementation is hard to explain', \" it's a bad idea.\\n\"]\n",
      "['If the implementation is hard to explain, it', 's a bad idea.\\n']\n",
      "---------- 17 ----------\n",
      "If the implementation is easy to explain, it may be a good idea.\n",
      "\n",
      "['If', 'the', 'implementation', 'is', 'easy', 'to', 'explain,', 'it', 'may', 'be', 'a', 'good', 'idea.']\n",
      "['If the implementation is easy to explain', ' it may be a good idea.\\n']\n",
      "['If the implementation is easy to explain, it may be a good idea.\\n']\n",
      "---------- 18 ----------\n",
      "Namespaces are one honking great idea -- let's do more of those!\n",
      "\n",
      "['Namespaces', 'are', 'one', 'honking', 'great', 'idea', '--', \"let's\", 'do', 'more', 'of', 'those!']\n",
      "[\"Namespaces are one honking great idea -- let's do more of those!\\n\"]\n",
      "['Namespaces are one honking great idea -- let', 's do more of those!\\n']\n",
      "---------- 19 ----------\n",
      "RESEARCH\n",
      "\n",
      "['RESEARCH']\n",
      "['RESEARCH\\n']\n",
      "['RESEARCH\\n']\n",
      "---------- 20 ----------\n",
      "Our research group’s central focus is the development of catalytic strategies to convert biomass (for example, corns, woods) into high-valued platform renewable chemicals, polymers, plastics, and biofuels using computational modeling. Three scientific challenges we are pursuing: Mechanism-Driven Discovery of Biopolymer Upgrading (quantum/molecular mechanics (DFT, MD)), Material Design for Catalytic Upgrading of Biomass (DFT, MD and Data Science), and Bottom-up Predictions/Design of (Bio)Fuel & Engine Performance (Cantera, DFT Chemical Kinetics).\n",
      "\n",
      "['Our', 'research', 'group’s', 'central', 'focus', 'is', 'the', 'development', 'of', 'catalytic', 'strategies', 'to', 'convert', 'biomass', '(for', 'example,', 'corns,', 'woods)', 'into', 'high-valued', 'platform', 'renewable', 'chemicals,', 'polymers,', 'plastics,', 'and', 'biofuels', 'using', 'computational', 'modeling.', 'Three', 'scientific', 'challenges', 'we', 'are', 'pursuing:', 'Mechanism-Driven', 'Discovery', 'of', 'Biopolymer', 'Upgrading', '(quantum/molecular', 'mechanics', '(DFT,', 'MD)),', 'Material', 'Design', 'for', 'Catalytic', 'Upgrading', 'of', 'Biomass', '(DFT,', 'MD', 'and', 'Data', 'Science),', 'and', 'Bottom-up', 'Predictions/Design', 'of', '(Bio)Fuel', '&', 'Engine', 'Performance', '(Cantera,', 'DFT', 'Chemical', 'Kinetics).']\n",
      "['Our research group’s central focus is the development of catalytic strategies to convert biomass (for example', ' corns', ' woods) into high-valued platform renewable chemicals', ' polymers', ' plastics', ' and biofuels using computational modeling. Three scientific challenges we are pursuing: Mechanism-Driven Discovery of Biopolymer Upgrading (quantum/molecular mechanics (DFT', ' MD))', ' Material Design for Catalytic Upgrading of Biomass (DFT', ' MD and Data Science)', ' and Bottom-up Predictions/Design of (Bio)Fuel & Engine Performance (Cantera', ' DFT Chemical Kinetics).\\n']\n",
      "['Our research group’s central focus is the development of catalytic strategies to convert biomass (for example, corns, woods) into high-valued platform renewable chemicals, polymers, plastics, and biofuels using computational modeling. Three scientific challenges we are pursuing: Mechanism-Driven Discovery of Biopolymer Upgrading (quantum/molecular mechanics (DFT, MD)), Material Design for Catalytic Upgrading of Biomass (DFT, MD and Data Science), and Bottom-up Predictions/Design of (Bio)Fuel & Engine Performance (Cantera, DFT Chemical Kinetics).\\n']\n",
      "---------- 21 ----------\n",
      "\n",
      "\n",
      "[]\n",
      "['\\n']\n",
      "['\\n']\n",
      "---------- 22 ----------\n",
      "figure 4\n",
      "\n",
      "['figure', '4']\n",
      "['figure 4\\n']\n",
      "['figure 4\\n']\n",
      "---------- 23 ----------\n",
      "\n",
      "\n",
      "[]\n",
      "['\\n']\n",
      "['\\n']\n",
      "---------- 24 ----------\n",
      "Mechanism-Driven Discovery of Biopolymer Upgrading\n",
      "\n",
      "['Mechanism-Driven', 'Discovery', 'of', 'Biopolymer', 'Upgrading']\n",
      "['Mechanism-Driven Discovery of Biopolymer Upgrading\\n']\n",
      "['Mechanism-Driven Discovery of Biopolymer Upgrading\\n']\n",
      "---------- 25 ----------\n",
      "The overarching goal underpinning the next phase of this work is to develop fundamental mechanistic studies into a blueprint for the extraction of sustainable chemicals from plants. This will focus on the discovery of enzymatic, heterogeneous, and homogeneous catalysts to selectively activate lignocellulosic biomass (lignin, hemicellulose, and cellulose). Our research first focuses on designing mechanism-driven catalysts for more selective and functionalized structures through biomass upgrading. A graph neural network development will be added to predict the energetics of homolytic bond cleavage in biomass, by training against QM studies of model compounds. This will enable automated mechanistic exploration of possible routes for thermochemical conversion of biomass using realistic models for the first time.\n",
      "\n",
      "['The', 'overarching', 'goal', 'underpinning', 'the', 'next', 'phase', 'of', 'this', 'work', 'is', 'to', 'develop', 'fundamental', 'mechanistic', 'studies', 'into', 'a', 'blueprint', 'for', 'the', 'extraction', 'of', 'sustainable', 'chemicals', 'from', 'plants.', 'This', 'will', 'focus', 'on', 'the', 'discovery', 'of', 'enzymatic,', 'heterogeneous,', 'and', 'homogeneous', 'catalysts', 'to', 'selectively', 'activate', 'lignocellulosic', 'biomass', '(lignin,', 'hemicellulose,', 'and', 'cellulose).', 'Our', 'research', 'first', 'focuses', 'on', 'designing', 'mechanism-driven', 'catalysts', 'for', 'more', 'selective', 'and', 'functionalized', 'structures', 'through', 'biomass', 'upgrading.', 'A', 'graph', 'neural', 'network', 'development', 'will', 'be', 'added', 'to', 'predict', 'the', 'energetics', 'of', 'homolytic', 'bond', 'cleavage', 'in', 'biomass,', 'by', 'training', 'against', 'QM', 'studies', 'of', 'model', 'compounds.', 'This', 'will', 'enable', 'automated', 'mechanistic', 'exploration', 'of', 'possible', 'routes', 'for', 'thermochemical', 'conversion', 'of', 'biomass', 'using', 'realistic', 'models', 'for', 'the', 'first', 'time.']\n",
      "['The overarching goal underpinning the next phase of this work is to develop fundamental mechanistic studies into a blueprint for the extraction of sustainable chemicals from plants. This will focus on the discovery of enzymatic', ' heterogeneous', ' and homogeneous catalysts to selectively activate lignocellulosic biomass (lignin', ' hemicellulose', ' and cellulose). Our research first focuses on designing mechanism-driven catalysts for more selective and functionalized structures through biomass upgrading. A graph neural network development will be added to predict the energetics of homolytic bond cleavage in biomass', ' by training against QM studies of model compounds. This will enable automated mechanistic exploration of possible routes for thermochemical conversion of biomass using realistic models for the first time.\\n']\n",
      "['The overarching goal underpinning the next phase of this work is to develop fundamental mechanistic studies into a blueprint for the extraction of sustainable chemicals from plants. This will focus on the discovery of enzymatic, heterogeneous, and homogeneous catalysts to selectively activate lignocellulosic biomass (lignin, hemicellulose, and cellulose). Our research first focuses on designing mechanism-driven catalysts for more selective and functionalized structures through biomass upgrading. A graph neural network development will be added to predict the energetics of homolytic bond cleavage in biomass, by training against QM studies of model compounds. This will enable automated mechanistic exploration of possible routes for thermochemical conversion of biomass using realistic models for the first time.\\n']\n",
      "---------- 26 ----------\n",
      "\n",
      "\n",
      "[]\n",
      "['\\n']\n",
      "['\\n']\n",
      "---------- 27 ----------\n",
      "Read more.\n",
      "\n",
      "['Read', 'more.']\n",
      "['Read more.\\n']\n",
      "['Read more.\\n']\n",
      "---------- 28 ----------\n",
      "\n",
      "\n",
      "[]\n",
      "['\\n']\n",
      "['\\n']\n",
      "---------- 29 ----------\n",
      "Materials Design for Catalytic Upgrading of Biomass\n",
      "\n",
      "['Materials', 'Design', 'for', 'Catalytic', 'Upgrading', 'of', 'Biomass']\n",
      "['Materials Design for Catalytic Upgrading of Biomass\\n']\n",
      "['Materials Design for Catalytic Upgrading of Biomass\\n']\n",
      "---------- 30 ----------\n",
      "Zeolite materials, which are widely used in the conversion and refining of petroleum derived hydrocarbons, are shape-selective molecular sieves that control catalytic reactivity on the basis of size exclusion. The focus of these zeolite materials has moved to produce renewable fuels and platform chemicals from alternate carbon feedstocks such as lignocellulosic biomass, especially in the thermochemical conversion processes in biorefineries. While chemical composition and atomic-layer reactivity is important in catalysis, mass transport through nanoporous materials (e.g. zeolites) can be a significant limiting factor in overall process kinetics. Our approach incorporates density functional theory (DFT), molecular dynamics (MD) simulations and mass transport characterization of biomass specific hydrocarbons diffusion, especially for designed zeolite and nanoporous catalytic structures. Our group establishes that the catalytic activity is studied at an atomistic scale by mechanistic studies using DFT and QM/MM. MD simulations are an effective approach to investigate coke precursor diffusions in hierarchical micro- and meso-porous zeolites which verify coking and other degradation mechanisms, while typical heuristic diffusion model overestimates the diffusion of bulky molecules in the mesopores.\n",
      "\n",
      "['Zeolite', 'materials,', 'which', 'are', 'widely', 'used', 'in', 'the', 'conversion', 'and', 'refining', 'of', 'petroleum', 'derived', 'hydrocarbons,', 'are', 'shape-selective', 'molecular', 'sieves', 'that', 'control', 'catalytic', 'reactivity', 'on', 'the', 'basis', 'of', 'size', 'exclusion.', 'The', 'focus', 'of', 'these', 'zeolite', 'materials', 'has', 'moved', 'to', 'produce', 'renewable', 'fuels', 'and', 'platform', 'chemicals', 'from', 'alternate', 'carbon', 'feedstocks', 'such', 'as', 'lignocellulosic', 'biomass,', 'especially', 'in', 'the', 'thermochemical', 'conversion', 'processes', 'in', 'biorefineries.', 'While', 'chemical', 'composition', 'and', 'atomic-layer', 'reactivity', 'is', 'important', 'in', 'catalysis,', 'mass', 'transport', 'through', 'nanoporous', 'materials', '(e.g.', 'zeolites)', 'can', 'be', 'a', 'significant', 'limiting', 'factor', 'in', 'overall', 'process', 'kinetics.', 'Our', 'approach', 'incorporates', 'density', 'functional', 'theory', '(DFT),', 'molecular', 'dynamics', '(MD)', 'simulations', 'and', 'mass', 'transport', 'characterization', 'of', 'biomass', 'specific', 'hydrocarbons', 'diffusion,', 'especially', 'for', 'designed', 'zeolite', 'and', 'nanoporous', 'catalytic', 'structures.', 'Our', 'group', 'establishes', 'that', 'the', 'catalytic', 'activity', 'is', 'studied', 'at', 'an', 'atomistic', 'scale', 'by', 'mechanistic', 'studies', 'using', 'DFT', 'and', 'QM/MM.', 'MD', 'simulations', 'are', 'an', 'effective', 'approach', 'to', 'investigate', 'coke', 'precursor', 'diffusions', 'in', 'hierarchical', 'micro-', 'and', 'meso-porous', 'zeolites', 'which', 'verify', 'coking', 'and', 'other', 'degradation', 'mechanisms,', 'while', 'typical', 'heuristic', 'diffusion', 'model', 'overestimates', 'the', 'diffusion', 'of', 'bulky', 'molecules', 'in', 'the', 'mesopores.']\n",
      "['Zeolite materials', ' which are widely used in the conversion and refining of petroleum derived hydrocarbons', ' are shape-selective molecular sieves that control catalytic reactivity on the basis of size exclusion. The focus of these zeolite materials has moved to produce renewable fuels and platform chemicals from alternate carbon feedstocks such as lignocellulosic biomass', ' especially in the thermochemical conversion processes in biorefineries. While chemical composition and atomic-layer reactivity is important in catalysis', ' mass transport through nanoporous materials (e.g. zeolites) can be a significant limiting factor in overall process kinetics. Our approach incorporates density functional theory (DFT)', ' molecular dynamics (MD) simulations and mass transport characterization of biomass specific hydrocarbons diffusion', ' especially for designed zeolite and nanoporous catalytic structures. Our group establishes that the catalytic activity is studied at an atomistic scale by mechanistic studies using DFT and QM/MM. MD simulations are an effective approach to investigate coke precursor diffusions in hierarchical micro- and meso-porous zeolites which verify coking and other degradation mechanisms', ' while typical heuristic diffusion model overestimates the diffusion of bulky molecules in the mesopores.\\n']\n",
      "['Zeolite materials, which are widely used in the conversion and refining of petroleum derived hydrocarbons, are shape-selective molecular sieves that control catalytic reactivity on the basis of size exclusion. The focus of these zeolite materials has moved to produce renewable fuels and platform chemicals from alternate carbon feedstocks such as lignocellulosic biomass, especially in the thermochemical conversion processes in biorefineries. While chemical composition and atomic-layer reactivity is important in catalysis, mass transport through nanoporous materials (e.g. zeolites) can be a significant limiting factor in overall process kinetics. Our approach incorporates density functional theory (DFT), molecular dynamics (MD) simulations and mass transport characterization of biomass specific hydrocarbons diffusion, especially for designed zeolite and nanoporous catalytic structures. Our group establishes that the catalytic activity is studied at an atomistic scale by mechanistic studies using DFT and QM/MM. MD simulations are an effective approach to investigate coke precursor diffusions in hierarchical micro- and meso-porous zeolites which verify coking and other degradation mechanisms, while typical heuristic diffusion model overestimates the diffusion of bulky molecules in the mesopores.\\n']\n",
      "---------- 31 ----------\n",
      "\n",
      "\n",
      "[]\n",
      "['\\n']\n",
      "['\\n']\n",
      "---------- 32 ----------\n",
      "Read more.\n",
      "\n",
      "['Read', 'more.']\n",
      "['Read more.\\n']\n",
      "['Read more.\\n']\n",
      "---------- 33 ----------\n",
      "\n",
      "\n",
      "[]\n",
      "['\\n']\n",
      "['\\n']\n",
      "---------- 34 ----------\n",
      "Bottom-up Prediction/Design of (Bio)Fuel and Engine Performance\n",
      "\n",
      "['Bottom-up', 'Prediction/Design', 'of', '(Bio)Fuel', 'and', 'Engine', 'Performance']\n",
      "['Bottom-up Prediction/Design of (Bio)Fuel and Engine Performance\\n']\n",
      "['Bottom-up Prediction/Design of (Bio)Fuel and Engine Performance\\n']\n",
      "---------- 35 ----------\n",
      "Bioderived feedstocks offer the opportunity to design transportation fuels with dramatically improved efficiency, emissions, and carbon footprint but detailed chemical kinetic mechanisms of biofuel blendstocks are not well understood. We develop to construct reduced kinetic models that accurately describe soot precursor formation at a localized level and use YSI (Yield Sooting Index, https://ysi.ml.nrel.gov) for network-embedded validation. This project will enable us to provide one of the fundamental links in the chain of models connecting fuel chemical structure to particulate matter. The most significant advantage is the quick building of reduced kinetic mechanisms for any target molecule which doesn’t have a detailed mechanism. Moving beyond the prediction of molecular properties, we explore the potential to use a machine learning approach in automating QM calculations for large-scale kinetic simulations. This is an expansion of our bond dissociation energy (BDE) machine learning model (https://bde.ml.nrel.gov/). These efforts will dramatically expand our ability to design fuel blendstocks that optimally leverage bioderived functionality in new, efficient engine designs.\n",
      "\n",
      "['Bioderived', 'feedstocks', 'offer', 'the', 'opportunity', 'to', 'design', 'transportation', 'fuels', 'with', 'dramatically', 'improved', 'efficiency,', 'emissions,', 'and', 'carbon', 'footprint', 'but', 'detailed', 'chemical', 'kinetic', 'mechanisms', 'of', 'biofuel', 'blendstocks', 'are', 'not', 'well', 'understood.', 'We', 'develop', 'to', 'construct', 'reduced', 'kinetic', 'models', 'that', 'accurately', 'describe', 'soot', 'precursor', 'formation', 'at', 'a', 'localized', 'level', 'and', 'use', 'YSI', '(Yield', 'Sooting', 'Index,', 'https://ysi.ml.nrel.gov)', 'for', 'network-embedded', 'validation.', 'This', 'project', 'will', 'enable', 'us', 'to', 'provide', 'one', 'of', 'the', 'fundamental', 'links', 'in', 'the', 'chain', 'of', 'models', 'connecting', 'fuel', 'chemical', 'structure', 'to', 'particulate', 'matter.', 'The', 'most', 'significant', 'advantage', 'is', 'the', 'quick', 'building', 'of', 'reduced', 'kinetic', 'mechanisms', 'for', 'any', 'target', 'molecule', 'which', 'doesn’t', 'have', 'a', 'detailed', 'mechanism.', 'Moving', 'beyond', 'the', 'prediction', 'of', 'molecular', 'properties,', 'we', 'explore', 'the', 'potential', 'to', 'use', 'a', 'machine', 'learning', 'approach', 'in', 'automating', 'QM', 'calculations', 'for', 'large-scale', 'kinetic', 'simulations.', 'This', 'is', 'an', 'expansion', 'of', 'our', 'bond', 'dissociation', 'energy', '(BDE)', 'machine', 'learning', 'model', '(https://bde.ml.nrel.gov/).', 'These', 'efforts', 'will', 'dramatically', 'expand', 'our', 'ability', 'to', 'design', 'fuel', 'blendstocks', 'that', 'optimally', 'leverage', 'bioderived', 'functionality', 'in', 'new,', 'efficient', 'engine', 'designs.']\n",
      "['Bioderived feedstocks offer the opportunity to design transportation fuels with dramatically improved efficiency', ' emissions', ' and carbon footprint but detailed chemical kinetic mechanisms of biofuel blendstocks are not well understood. We develop to construct reduced kinetic models that accurately describe soot precursor formation at a localized level and use YSI (Yield Sooting Index', ' https://ysi.ml.nrel.gov) for network-embedded validation. This project will enable us to provide one of the fundamental links in the chain of models connecting fuel chemical structure to particulate matter. The most significant advantage is the quick building of reduced kinetic mechanisms for any target molecule which doesn’t have a detailed mechanism. Moving beyond the prediction of molecular properties', ' we explore the potential to use a machine learning approach in automating QM calculations for large-scale kinetic simulations. This is an expansion of our bond dissociation energy (BDE) machine learning model (https://bde.ml.nrel.gov/). These efforts will dramatically expand our ability to design fuel blendstocks that optimally leverage bioderived functionality in new', ' efficient engine designs.\\n']\n",
      "['Bioderived feedstocks offer the opportunity to design transportation fuels with dramatically improved efficiency, emissions, and carbon footprint but detailed chemical kinetic mechanisms of biofuel blendstocks are not well understood. We develop to construct reduced kinetic models that accurately describe soot precursor formation at a localized level and use YSI (Yield Sooting Index, https://ysi.ml.nrel.gov) for network-embedded validation. This project will enable us to provide one of the fundamental links in the chain of models connecting fuel chemical structure to particulate matter. The most significant advantage is the quick building of reduced kinetic mechanisms for any target molecule which doesn’t have a detailed mechanism. Moving beyond the prediction of molecular properties, we explore the potential to use a machine learning approach in automating QM calculations for large-scale kinetic simulations. This is an expansion of our bond dissociation energy (BDE) machine learning model (https://bde.ml.nrel.gov/). These efforts will dramatically expand our ability to design fuel blendstocks that optimally leverage bioderived functionality in new, efficient engine designs.\\n']\n",
      "---------- 36 ----------\n",
      "\n",
      "\n",
      "[]\n",
      "['\\n']\n",
      "['\\n']\n",
      "---------- 37 ----------\n",
      "Read more.\n",
      "\n",
      "['Read', 'more.']\n",
      "['Read more.\\n']\n",
      "['Read more.\\n']\n",
      "-----\n",
      "['Beautiful', 'is', 'better', 'than', 'ugly.', 'Explicit', 'is', 'better', 'than', 'implicit.', 'Simple', 'is', 'better', 'than', 'complex.', 'Complex', 'is', 'better', 'than', 'complicated.', 'Flat', 'is', 'better', 'than', 'nested.', 'Sparse', 'is', 'better', 'than', 'dense.', 'Readability', 'counts.', 'Special', 'cases', \"aren't\", 'special', 'enough', 'to', 'break', 'the', 'rules.', 'Although', 'practicality', 'beats', 'purity.', 'Errors', 'should', 'never', 'pass', 'silently.', 'Unless', 'explicitly', 'silenced.', 'In', 'the', 'face', 'of', 'ambiguity,', 'refuse', 'the', 'temptation', 'to', 'guess.', 'There', 'should', 'be', 'one--', 'and', 'preferably', 'only', 'one', '--obvious', 'way', 'to', 'do', 'it.', 'Although', 'that', 'way', 'may', 'not', 'be', 'obvious', 'at', 'first', 'unless', \"you're\", 'Dutch.', 'Now', 'is', 'better', 'than', 'never.', 'Although', 'never', 'is', 'often', 'better', 'than', '*right*', 'now.', 'If', 'the', 'implementation', 'is', 'hard', 'to', 'explain,', \"it's\", 'a', 'bad', 'idea.', 'If', 'the', 'implementation', 'is', 'easy', 'to', 'explain,', 'it', 'may', 'be', 'a', 'good', 'idea.', 'Namespaces', 'are', 'one', 'honking', 'great', 'idea', '--', \"let's\", 'do', 'more', 'of', 'those!', 'RESEARCH', 'Our', 'research', 'group’s', 'central', 'focus', 'is', 'the', 'development', 'of', 'catalytic', 'strategies', 'to', 'convert', 'biomass', '(for', 'example,', 'corns,', 'woods)', 'into', 'high-valued', 'platform', 'renewable', 'chemicals,', 'polymers,', 'plastics,', 'and', 'biofuels', 'using', 'computational', 'modeling.', 'Three', 'scientific', 'challenges', 'we', 'are', 'pursuing:', 'Mechanism-Driven', 'Discovery', 'of', 'Biopolymer', 'Upgrading', '(quantum/molecular', 'mechanics', '(DFT,', 'MD)),', 'Material', 'Design', 'for', 'Catalytic', 'Upgrading', 'of', 'Biomass', '(DFT,', 'MD', 'and', 'Data', 'Science),', 'and', 'Bottom-up', 'Predictions/Design', 'of', '(Bio)Fuel', '&', 'Engine', 'Performance', '(Cantera,', 'DFT', 'Chemical', 'Kinetics).', 'figure', '4', 'Mechanism-Driven', 'Discovery', 'of', 'Biopolymer', 'Upgrading', 'The', 'overarching', 'goal', 'underpinning', 'the', 'next', 'phase', 'of', 'this', 'work', 'is', 'to', 'develop', 'fundamental', 'mechanistic', 'studies', 'into', 'a', 'blueprint', 'for', 'the', 'extraction', 'of', 'sustainable', 'chemicals', 'from', 'plants.', 'This', 'will', 'focus', 'on', 'the', 'discovery', 'of', 'enzymatic,', 'heterogeneous,', 'and', 'homogeneous', 'catalysts', 'to', 'selectively', 'activate', 'lignocellulosic', 'biomass', '(lignin,', 'hemicellulose,', 'and', 'cellulose).', 'Our', 'research', 'first', 'focuses', 'on', 'designing', 'mechanism-driven', 'catalysts', 'for', 'more', 'selective', 'and', 'functionalized', 'structures', 'through', 'biomass', 'upgrading.', 'A', 'graph', 'neural', 'network', 'development', 'will', 'be', 'added', 'to', 'predict', 'the', 'energetics', 'of', 'homolytic', 'bond', 'cleavage', 'in', 'biomass,', 'by', 'training', 'against', 'QM', 'studies', 'of', 'model', 'compounds.', 'This', 'will', 'enable', 'automated', 'mechanistic', 'exploration', 'of', 'possible', 'routes', 'for', 'thermochemical', 'conversion', 'of', 'biomass', 'using', 'realistic', 'models', 'for', 'the', 'first', 'time.', 'Read', 'more.', 'Materials', 'Design', 'for', 'Catalytic', 'Upgrading', 'of', 'Biomass', 'Zeolite', 'materials,', 'which', 'are', 'widely', 'used', 'in', 'the', 'conversion', 'and', 'refining', 'of', 'petroleum', 'derived', 'hydrocarbons,', 'are', 'shape-selective', 'molecular', 'sieves', 'that', 'control', 'catalytic', 'reactivity', 'on', 'the', 'basis', 'of', 'size', 'exclusion.', 'The', 'focus', 'of', 'these', 'zeolite', 'materials', 'has', 'moved', 'to', 'produce', 'renewable', 'fuels', 'and', 'platform', 'chemicals', 'from', 'alternate', 'carbon', 'feedstocks', 'such', 'as', 'lignocellulosic', 'biomass,', 'especially', 'in', 'the', 'thermochemical', 'conversion', 'processes', 'in', 'biorefineries.', 'While', 'chemical', 'composition', 'and', 'atomic-layer', 'reactivity', 'is', 'important', 'in', 'catalysis,', 'mass', 'transport', 'through', 'nanoporous', 'materials', '(e.g.', 'zeolites)', 'can', 'be', 'a', 'significant', 'limiting', 'factor', 'in', 'overall', 'process', 'kinetics.', 'Our', 'approach', 'incorporates', 'density', 'functional', 'theory', '(DFT),', 'molecular', 'dynamics', '(MD)', 'simulations', 'and', 'mass', 'transport', 'characterization', 'of', 'biomass', 'specific', 'hydrocarbons', 'diffusion,', 'especially', 'for', 'designed', 'zeolite', 'and', 'nanoporous', 'catalytic', 'structures.', 'Our', 'group', 'establishes', 'that', 'the', 'catalytic', 'activity', 'is', 'studied', 'at', 'an', 'atomistic', 'scale', 'by', 'mechanistic', 'studies', 'using', 'DFT', 'and', 'QM/MM.', 'MD', 'simulations', 'are', 'an', 'effective', 'approach', 'to', 'investigate', 'coke', 'precursor', 'diffusions', 'in', 'hierarchical', 'micro-', 'and', 'meso-porous', 'zeolites', 'which', 'verify', 'coking', 'and', 'other', 'degradation', 'mechanisms,', 'while', 'typical', 'heuristic', 'diffusion', 'model', 'overestimates', 'the', 'diffusion', 'of', 'bulky', 'molecules', 'in', 'the', 'mesopores.', 'Read', 'more.', 'Bottom-up', 'Prediction/Design', 'of', '(Bio)Fuel', 'and', 'Engine', 'Performance', 'Bioderived', 'feedstocks', 'offer', 'the', 'opportunity', 'to', 'design', 'transportation', 'fuels', 'with', 'dramatically', 'improved', 'efficiency,', 'emissions,', 'and', 'carbon', 'footprint', 'but', 'detailed', 'chemical', 'kinetic', 'mechanisms', 'of', 'biofuel', 'blendstocks', 'are', 'not', 'well', 'understood.', 'We', 'develop', 'to', 'construct', 'reduced', 'kinetic', 'models', 'that', 'accurately', 'describe', 'soot', 'precursor', 'formation', 'at', 'a', 'localized', 'level', 'and', 'use', 'YSI', '(Yield', 'Sooting', 'Index,', 'https://ysi.ml.nrel.gov)', 'for', 'network-embedded', 'validation.', 'This', 'project', 'will', 'enable', 'us', 'to', 'provide', 'one', 'of', 'the', 'fundamental', 'links', 'in', 'the', 'chain', 'of', 'models', 'connecting', 'fuel', 'chemical', 'structure', 'to', 'particulate', 'matter.', 'The', 'most', 'significant', 'advantage', 'is', 'the', 'quick', 'building', 'of', 'reduced', 'kinetic', 'mechanisms', 'for', 'any', 'target', 'molecule', 'which', 'doesn’t', 'have', 'a', 'detailed', 'mechanism.', 'Moving', 'beyond', 'the', 'prediction', 'of', 'molecular', 'properties,', 'we', 'explore', 'the', 'potential', 'to', 'use', 'a', 'machine', 'learning', 'approach', 'in', 'automating', 'QM', 'calculations', 'for', 'large-scale', 'kinetic', 'simulations.', 'This', 'is', 'an', 'expansion', 'of', 'our', 'bond', 'dissociation', 'energy', '(BDE)', 'machine', 'learning', 'model', '(https://bde.ml.nrel.gov/).', 'These', 'efforts', 'will', 'dramatically', 'expand', 'our', 'ability', 'to', 'design', 'fuel', 'blendstocks', 'that', 'optimally', 'leverage', 'bioderived', 'functionality', 'in', 'new,', 'efficient', 'engine', 'designs.', 'Read', 'more.']\n",
      "681\n"
     ]
    }
   ],
   "source": [
    "import glob\n",
    "filenames = glob.glob('./Week_2/*.txt') #grab all txt files\n",
    "\n",
    "line_count = 0\n",
    "all_chunk = []\n",
    "for filename in filenames:\n",
    "    for a_line in open(filename,'r'): # read line by line\n",
    "        print('----------',line_count,'----------')\n",
    "        print(a_line)\n",
    "        print(a_line.split()) \n",
    "        print(a_line.split(\",\"))\n",
    "        print(a_line.split(\"'\"))\n",
    "        \n",
    "        line_count += 1\n",
    "        all_chunk += a_line.split() #list\n",
    "\n",
    "print('-----')\n",
    "print(all_chunk)\n",
    "print(len(all_chunk))"
   ]
  },
  {
   "cell_type": "markdown",
   "metadata": {},
   "source": [
    "# for+if one liners"
   ]
  },
  {
   "cell_type": "code",
   "execution_count": 18,
   "metadata": {},
   "outputs": [
    {
     "name": "stdout",
     "output_type": "stream",
     "text": [
      "['CC(C)=O', 'CO', 'CCO']\n",
      "['CC(C)=O', 'CO', 'CCO']\n"
     ]
    }
   ],
   "source": [
    "from rdkit.Chem.Descriptors import MolWt\n",
    "#more chem related examples will be added\n",
    "list_1 = ['CC(C)=O', 'O', 'CCCCCC', 'CO', 'CCCCC', 'CCO']\n",
    "\n",
    "new_list = []\n",
    "for smi in list_1:\n",
    "    mol = Chem.MolFromSmiles(smi)\n",
    "    MW = MolWt(mol)\n",
    "    \n",
    "    if MW > 20 and MW < 60:\n",
    "        new_list.append(smi)\n",
    "\n",
    "print(new_list)\n",
    "    \n",
    "# is equivalent to..\n",
    "new_list2 = [smi for smi in list_1 if 20 < MolWt(Chem.MolFromSmiles(smi)) < 60]\n",
    "print(new_list2)"
   ]
  },
  {
   "cell_type": "markdown",
   "metadata": {},
   "source": [
    "# ***Assignment 1***"
   ]
  },
  {
   "cell_type": "markdown",
   "metadata": {},
   "source": [
    "#### 1. Read all files whose name contains 'list' in the './Week_2/' folder\n",
    "#### 2. How many lines are invalid?\n",
    "#### 3. How many lines contain 2 or more molecules (multiple molecules within one smiles string are separated by '.')?"
   ]
  },
  {
   "cell_type": "markdown",
   "metadata": {},
   "source": [
    "#### 4. How many molecules are left after removing duplicates?\n",
    "#### 5. What was the 'non-canonical' smiles of the canonical smiles O=C1CCCCC1?"
   ]
  },
  {
   "cell_type": "markdown",
   "metadata": {},
   "source": [
    "(Start from the list of canonicalized SMILES)\n",
    "\n",
    "#### 6. How many smiles strings contain stereochemistry information?\n",
    "\n",
    "Two ways: (1) If the string contains '@' or '/' or '\\\\', it contains stereochemistry information\n",
    "\n",
    "(2) MolFromSmiles -> MolToInchiKey -> stereoisomers do not contain 'UHFFFAOYSA'"
   ]
  },
  {
   "cell_type": "markdown",
   "metadata": {},
   "source": [
    "#### 7. How many molecules have Cl?\n",
    "\n",
    "Write code in two ways: (1) 'Cl' in smiles string,  (2) using GetAtoms() and atom.GetSymbol() in RDKit\n",
    "\n",
    "#### 8. How many molecules have more than three oxygen atoms?"
   ]
  },
  {
   "cell_type": "markdown",
   "metadata": {},
   "source": [
    "#### 9. How many molecules are neutral/cation/anion/radicals?\n",
    "#### 10. How many molecules have molecular weight > 100?"
   ]
  },
  {
   "cell_type": "code",
   "execution_count": 70,
   "metadata": {},
   "outputs": [
    {
     "name": "stdout",
     "output_type": "stream",
     "text": [
      "List files: ['./Week_2/list_smi', './Week_2/mol_list', './Week_2/molecules_list_1', './Week_2/my_list_2'] \n",
      "\n",
      "Invalid files: 2 \n",
      "\n",
      "Non-Cannonical Smiles of 'O=C1CCCCC1': O=C1CCCCC1\n",
      "\n",
      "Non-Cannonical Smiles of 'O=C1CCCCC1': C1CCC(=O)CC1\n",
      "\n"
     ]
    },
    {
     "name": "stderr",
     "output_type": "stream",
     "text": [
      "RDKit ERROR: [15:57:36] SMILES Parse Error: syntax error while parsing: hahahahaha\n",
      "RDKit ERROR: \n",
      "RDKit ERROR: [15:57:36] SMILES Parse Error: Failed parsing SMILES 'hahahahaha\n",
      "RDKit ERROR: ' for input: 'hahahahaha\n",
      "RDKit ERROR: '\n",
      "RDKit ERROR: [15:57:36] SMILES Parse Error: syntax error while parsing: hahaha\n",
      "RDKit ERROR: \n",
      "RDKit ERROR: [15:57:36] SMILES Parse Error: Failed parsing SMILES 'hahaha\n",
      "RDKit ERROR: ' for input: 'hahaha\n",
      "RDKit ERROR: '\n",
      "RDKit ERROR: [15:57:36] SMILES Parse Error: syntax error while parsing: hahahahahaha\n",
      "RDKit ERROR: \n",
      "RDKit ERROR: [15:57:36] SMILES Parse Error: Failed parsing SMILES 'hahahahahaha\n",
      "RDKit ERROR: ' for input: 'hahahahahaha\n",
      "RDKit ERROR: '\n",
      "RDKit WARNING: [15:57:36] WARNING: not removing hydrogen atom without neighbors\n",
      "RDKit ERROR: [15:57:36] SMILES Parse Error: syntax error while parsing: ---\n",
      "RDKit ERROR: \n",
      "RDKit ERROR: [15:57:36] SMILES Parse Error: Failed parsing SMILES '---\n",
      "RDKit ERROR: ' for input: '---\n",
      "RDKit ERROR: '\n",
      "RDKit ERROR: [15:57:36] SMILES Parse Error: syntax error while parsing: nan\n",
      "RDKit ERROR: \n",
      "RDKit ERROR: [15:57:36] SMILES Parse Error: Failed parsing SMILES 'nan\n",
      "RDKit ERROR: ' for input: 'nan\n",
      "RDKit ERROR: '\n",
      "RDKit ERROR: [15:57:36] SMILES Parse Error: syntax error while parsing: nan\n",
      "RDKit ERROR: \n",
      "RDKit ERROR: [15:57:36] SMILES Parse Error: Failed parsing SMILES 'nan\n",
      "RDKit ERROR: ' for input: 'nan\n",
      "RDKit ERROR: '\n",
      "RDKit ERROR: [15:57:36] SMILES Parse Error: syntax error while parsing: nan\n",
      "RDKit ERROR: \n",
      "RDKit ERROR: [15:57:36] SMILES Parse Error: Failed parsing SMILES 'nan\n",
      "RDKit ERROR: ' for input: 'nan\n",
      "RDKit ERROR: '\n",
      "RDKit ERROR: [15:57:36] SMILES Parse Error: syntax error while parsing: ---\n",
      "RDKit ERROR: \n",
      "RDKit ERROR: [15:57:36] SMILES Parse Error: Failed parsing SMILES '---\n",
      "RDKit ERROR: ' for input: '---\n",
      "RDKit ERROR: '\n",
      "RDKit ERROR: [15:57:36] SMILES Parse Error: syntax error while parsing: null\n",
      "RDKit ERROR: \n",
      "RDKit ERROR: [15:57:36] SMILES Parse Error: Failed parsing SMILES 'null\n",
      "RDKit ERROR: ' for input: 'null\n",
      "RDKit ERROR: '\n",
      "RDKit ERROR: [15:57:36] SMILES Parse Error: syntax error while parsing: chem\n",
      "RDKit ERROR: [15:57:36] SMILES Parse Error: Failed parsing SMILES 'chem' for input: 'chem'\n",
      "RDKit ERROR: [15:57:36] SMILES Parse Error: syntax error while parsing: is\n",
      "RDKit ERROR: [15:57:36] SMILES Parse Error: Failed parsing SMILES 'is' for input: 'is'\n",
      "RDKit ERROR: [15:57:36] SMILES Parse Error: syntax error while parsing: try\n",
      "RDKit ERROR: \n",
      "RDKit ERROR: [15:57:36] SMILES Parse Error: Failed parsing SMILES 'try\n",
      "RDKit ERROR: ' for input: 'try\n",
      "RDKit ERROR: '\n"
     ]
    },
    {
     "name": "stdout",
     "output_type": "stream",
     "text": [
      "Non-Cannonical Smiles of 'O=C1CCCCC1': C1CCC(=O)CC1\n",
      "\n",
      "Invalid lines: 12\n",
      "\n",
      "Number of SMILES with stereo information: 32\n",
      "\n",
      "Number of SMILES containing Chlorine: 16\n"
     ]
    }
   ],
   "source": [
    "import glob\n",
    "filenames = glob.glob('./Week_2/*') #grab all txt files\n",
    "\n",
    "list_files = [file for file in filenames if (\"list\" in file)]\n",
    "print(\"List files: {} \\n\".format(list_files))\n",
    "print(\"Invalid files: {} \\n\".format(str(len(filenames)-len(list_files))))\n",
    "\n",
    "invalid_lines = 0\n",
    "cannonical_smiles = []\n",
    "multi_mol_lines = 0\n",
    "\n",
    "\n",
    "for file in list_files:\n",
    "    for a_line in open(file,'r'):\n",
    "        molecules = a_line.split(\".\")\n",
    "        for molecule in molecules:\n",
    "            mol = Chem.MolFromSmiles(molecule)\n",
    "            \n",
    "            ###TODO: Try/Except error logging that displays filename and line number on parse error. http://rdkit.blogspot.com/2016/03/capturing-error-information.html\n",
    "            \n",
    "            if mol:\n",
    "                cannonical_smiles.append(Chem.MolToSmiles(mol))\n",
    "                if (Chem.MolToSmiles(mol)) == \"O=C1CCCCC1\":\n",
    "                    print(\"Non-Cannonical Smiles of 'O=C1CCCCC1': \" + molecule)\n",
    "                \n",
    "            else:\n",
    "                invalid_lines += 1\n",
    "                \n",
    "#print(cannonical_smiles)\n",
    "print(\"Invalid lines: \" + str(invalid_lines))\n",
    "\n",
    "smiles_with_stereo = 0\n",
    "smiles_with_cl = 0\n",
    "smiles_with_hmw = 0\n",
    "\n",
    "import re\n",
    "stereo_info = re.compile(r'.[\\\\\\/\\@]')\n",
    "cl_info = re.compile(r'Cl')\n",
    "multi_o = re.compile(r'(o)\\1{2}')\n",
    "for smiles in cannonical_smiles:\n",
    "    if (re.search(stereo_info, smiles)):\n",
    "        smiles_with_stereo += 1\n",
    "    if (re.search(cl_info, smiles)):\n",
    "        smiles_with_cl += 1\n",
    "print(\"\\nNumber of SMILES with stereo information: \" + str(smiles_with_stereo))\n",
    "print(\"\\nNumber of SMILES containing Chlorine: \" + str(smiles_with_cl))"
   ]
  },
  {
   "cell_type": "code",
   "execution_count": 64,
   "metadata": {},
   "outputs": [
    {
     "name": "stderr",
     "output_type": "stream",
     "text": [
      "RDKit WARNING: [05:22:52] WARNING: not removing hydrogen atom without neighbors\n"
     ]
    },
    {
     "name": "stdout",
     "output_type": "stream",
     "text": [
      "Number of SMILES with more than 3 oxygen atoms: 484\n"
     ]
    }
   ],
   "source": [
    "smiles_with_o = 0\n",
    "\n",
    "for smiles in cannonical_smiles:\n",
    "    number_of_o = 0\n",
    "    mol = Chem.MolFromSmiles(smiles)\n",
    "    for atom in mol.GetAtoms():\n",
    "        if(atom.GetSymbol() == \"O\"):\n",
    "            number_of_o += 1\n",
    "    if number_of_o > 3:\n",
    "        smiles_with_o += 1\n",
    "        \n",
    "print(\"Number of SMILES with more than 3 oxygen atoms: \" + str(smiles_with_o))\n"
   ]
  },
  {
   "cell_type": "code",
   "execution_count": 69,
   "metadata": {},
   "outputs": [
    {
     "name": "stderr",
     "output_type": "stream",
     "text": [
      "RDKit WARNING: [05:37:59] WARNING: not removing hydrogen atom without neighbors\n"
     ]
    },
    {
     "name": "stdout",
     "output_type": "stream",
     "text": [
      "The numbers of: \n",
      "  Neutral species 7173 \n",
      "  Cations: 0 \n",
      "  Anions: 11\n",
      "The number of radicals: 7184\n",
      "The number of species with mol. wt > 100 :6583\n"
     ]
    }
   ],
   "source": [
    "type_of_molec = [0,0,0]\n",
    "smiles_with_radicals = 0\n",
    "smiles_with_lg_wt = 0\n",
    "\n",
    "for smiles in cannonical_smiles:\n",
    "    mol = Chem.MolFromSmiles(smiles)\n",
    "    fml_chrg = GetFormalCharge(mol)\n",
    "    if(fml_chrg == 0):\n",
    "        type_of_molec[0] += 1\n",
    "    elif(fml_chrg > 0):\n",
    "        type_of_molec[1] += 1\n",
    "    elif(fml_chrg < 0):\n",
    "        type_of_molec[2] += 1\n",
    "    if(NumRadicalElectrons != 0):\n",
    "        smiles_with_radicals += 1\n",
    "    if(MolWt(mol) > 100):\n",
    "        smiles_with_lg_wt += 1\n",
    "        \n",
    "print(\"The numbers of: \\n  Neutral species {} \\n  Cations: {} \\n  Anions: {}\"\n",
    "      .format(type_of_molec[0], type_of_molec[1], type_of_molec[2]))\n",
    "\n",
    "print(\"The number of radicals: \" + str(smiles_with_radicals))\n",
    "print(\"The number of species with mol. wt > 100: \" + str(smiles_with_lg_wt))"
   ]
  },
  {
   "cell_type": "code",
   "execution_count": null,
   "metadata": {},
   "outputs": [],
   "source": []
  }
 ],
 "metadata": {
  "kernelspec": {
   "display_name": "Python [conda env:rdKit]",
   "language": "python",
   "name": "conda-env-rdKit-py"
  },
  "language_info": {
   "codemirror_mode": {
    "name": "ipython",
    "version": 3
   },
   "file_extension": ".py",
   "mimetype": "text/x-python",
   "name": "python",
   "nbconvert_exporter": "python",
   "pygments_lexer": "ipython3",
   "version": "3.6.13"
  }
 },
 "nbformat": 4,
 "nbformat_minor": 5
}
