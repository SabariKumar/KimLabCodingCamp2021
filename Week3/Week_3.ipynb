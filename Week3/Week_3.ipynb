{
 "cells": [
  {
   "cell_type": "markdown",
   "metadata": {},
   "source": [
    "# With statement in Python"
   ]
  },
  {
   "cell_type": "code",
   "execution_count": 1,
   "metadata": {},
   "outputs": [
    {
     "ename": "FileNotFoundError",
     "evalue": "[Errno 2] No such file or directory: './Week_2/example.txt'",
     "output_type": "error",
     "traceback": [
      "\u001b[0;31m---------------------------------------------------------------------------\u001b[0m",
      "\u001b[0;31mFileNotFoundError\u001b[0m                         Traceback (most recent call last)",
      "\u001b[0;32m<ipython-input-1-964133ed30fd>\u001b[0m in \u001b[0;36m<module>\u001b[0;34m\u001b[0m\n\u001b[1;32m      1\u001b[0m \u001b[0;31m# 'With' is good for (i) error/exception handling, (ii) memory usage (open/close files), (iii) readability!\u001b[0m\u001b[0;34m\u001b[0m\u001b[0;34m\u001b[0m\u001b[0;34m\u001b[0m\u001b[0m\n\u001b[0;32m----> 2\u001b[0;31m \u001b[0;32mwith\u001b[0m \u001b[0mopen\u001b[0m\u001b[0;34m(\u001b[0m\u001b[0;34m'./Week_2/example.txt'\u001b[0m\u001b[0;34m,\u001b[0m \u001b[0;34m'r'\u001b[0m\u001b[0;34m)\u001b[0m \u001b[0;32mas\u001b[0m \u001b[0mf\u001b[0m\u001b[0;34m:\u001b[0m\u001b[0;34m\u001b[0m\u001b[0;34m\u001b[0m\u001b[0m\n\u001b[0m\u001b[1;32m      3\u001b[0m     \u001b[0;32mfor\u001b[0m \u001b[0ma_line\u001b[0m \u001b[0;32min\u001b[0m \u001b[0mf\u001b[0m\u001b[0;34m:\u001b[0m\u001b[0;34m\u001b[0m\u001b[0;34m\u001b[0m\u001b[0m\n\u001b[1;32m      4\u001b[0m         \u001b[0;32mpass\u001b[0m \u001b[0;31m# do something\u001b[0m\u001b[0;34m\u001b[0m\u001b[0;34m\u001b[0m\u001b[0m\n\u001b[1;32m      5\u001b[0m \u001b[0;34m\u001b[0m\u001b[0m\n",
      "\u001b[0;31mFileNotFoundError\u001b[0m: [Errno 2] No such file or directory: './Week_2/example.txt'"
     ]
    }
   ],
   "source": [
    "# 'With' is good for (i) error/exception handling, (ii) memory usage (open/close files), (iii) readability!\n",
    "with open('./Week_2/example.txt', 'r') as f:\n",
    "    for a_line in f:\n",
    "        pass # do something\n",
    "\n",
    "# Another way:\n",
    "f = open('./Week_2/example.txt', 'r')\n",
    "for a_line in f:\n",
    "    pass # do something\n",
    "f.close()\n",
    "\n",
    "# This might be not bad because Python automatically closes and empties memory after running the for loop,\n",
    "# But the 'with' statement is a legitimate way\n",
    "for a_line in open('./Week_2/example.txt', 'r'):\n",
    "    pass # do something"
   ]
  },
  {
   "cell_type": "markdown",
   "metadata": {},
   "source": [
    "# AddHs"
   ]
  },
  {
   "cell_type": "code",
   "execution_count": 1,
   "metadata": {},
   "outputs": [
    {
     "name": "stdout",
     "output_type": "stream",
     "text": [
      "['C', 'C', 'O']\n",
      "['C', 'C', 'O', 'H', 'H', 'H', 'H', 'H', 'H']\n"
     ]
    }
   ],
   "source": [
    "from rdkit import Chem\n",
    "mol = Chem.MolFromSmiles('CCO')\n",
    "print([atom.GetSymbol() for atom in mol.GetAtoms()]  )\n",
    "mol = Chem.AddHs(mol)\n",
    "print([atom.GetSymbol() for atom in mol.GetAtoms()]  )"
   ]
  },
  {
   "cell_type": "markdown",
   "metadata": {},
   "source": [
    "# List vs. Tuple"
   ]
  },
  {
   "cell_type": "code",
   "execution_count": 2,
   "metadata": {},
   "outputs": [
    {
     "name": "stdout",
     "output_type": "stream",
     "text": [
      "[1, 4, 3]\n"
     ]
    },
    {
     "ename": "TypeError",
     "evalue": "'tuple' object does not support item assignment",
     "output_type": "error",
     "traceback": [
      "\u001b[0;31m---------------------------------------------------------------------------\u001b[0m",
      "\u001b[0;31mTypeError\u001b[0m                                 Traceback (most recent call last)",
      "\u001b[0;32m<ipython-input-2-0bca40051554>\u001b[0m in \u001b[0;36m<module>\u001b[0;34m\u001b[0m\n\u001b[1;32m      4\u001b[0m \u001b[0;34m\u001b[0m\u001b[0m\n\u001b[1;32m      5\u001b[0m \u001b[0mb\u001b[0m \u001b[0;34m=\u001b[0m \u001b[0;34m(\u001b[0m\u001b[0;36m1\u001b[0m\u001b[0;34m,\u001b[0m\u001b[0;36m2\u001b[0m\u001b[0;34m,\u001b[0m\u001b[0;36m3\u001b[0m\u001b[0;34m)\u001b[0m\u001b[0;34m\u001b[0m\u001b[0;34m\u001b[0m\u001b[0m\n\u001b[0;32m----> 6\u001b[0;31m \u001b[0mb\u001b[0m\u001b[0;34m[\u001b[0m\u001b[0;36m1\u001b[0m\u001b[0;34m]\u001b[0m \u001b[0;34m=\u001b[0m \u001b[0;36m4\u001b[0m\u001b[0;34m\u001b[0m\u001b[0;34m\u001b[0m\u001b[0m\n\u001b[0m\u001b[1;32m      7\u001b[0m \u001b[0;31m# 'tuple' object does not support item assignment\u001b[0m\u001b[0;34m\u001b[0m\u001b[0;34m\u001b[0m\u001b[0;34m\u001b[0m\u001b[0m\n",
      "\u001b[0;31mTypeError\u001b[0m: 'tuple' object does not support item assignment"
     ]
    }
   ],
   "source": [
    "a = [1,2,3]\n",
    "a[1] = 4\n",
    "print(a)\n",
    "\n",
    "b = (1,2,3)\n",
    "b[1] = 4\n",
    "# 'tuple' object does not support item assignment"
   ]
  },
  {
   "cell_type": "code",
   "execution_count": 3,
   "metadata": {},
   "outputs": [
    {
     "name": "stdout",
     "output_type": "stream",
     "text": [
      "[(0, 1), (0, 2), (0, 3), (1, 2), (1, 3), (2, 3)]\n",
      "[[0, 1], [0, 2], [0, 3], [1, 2], [1, 3], [2, 3]]\n"
     ]
    }
   ],
   "source": [
    "#List of tuples\n",
    "\n",
    "list_of_tuples= []\n",
    "for i in range(4):\n",
    "    for j in range(i+1, 4):\n",
    "        list_of_tuples.append((i,j))\n",
    "print(list_of_tuples)\n",
    "\n",
    "list_of_lists = []\n",
    "for i in range(4):\n",
    "    for j in range(i+1, 4):\n",
    "        list_of_lists.append([i,j])\n",
    "print(list_of_lists)\n",
    "\n",
    "# Tuple is good for (i) managing an array of 'constants', \\\n",
    "#(ii) memory usage (generally less memory consumption than list), (iii) readability!"
   ]
  },
  {
   "cell_type": "markdown",
   "metadata": {},
   "source": [
    "# GetBonds"
   ]
  },
  {
   "cell_type": "code",
   "execution_count": 4,
   "metadata": {},
   "outputs": [
    {
     "name": "stdout",
     "output_type": "stream",
     "text": [
      "C C\n",
      "C O\n",
      "C H\n",
      "C H\n",
      "C H\n",
      "C H\n",
      "C H\n",
      "O H\n",
      "[(0, 1), (1, 2), (0, 3), (0, 4), (0, 5), (1, 6), (1, 7), (2, 8)]\n"
     ]
    }
   ],
   "source": [
    "#The atom indices of each bond do not change, so here I use tuple for saving atom indices\n",
    "mol = Chem.MolFromSmiles('CCO')\n",
    "mol = Chem.AddHs(mol)\n",
    "\n",
    "bonds = []\n",
    "for bond in mol.GetBonds():\n",
    "    a1_idx = bond.GetBeginAtom().GetIdx()\n",
    "    a2_idx = bond.GetEndAtom().GetIdx()\n",
    "    \n",
    "    bonds.append((a1_idx, a2_idx))\n",
    "    \n",
    "    atom1, atom2 = mol.GetAtomWithIdx(a1_idx), mol.GetAtomWithIdx(a2_idx)\n",
    "    \n",
    "    print(atom1.GetSymbol(), atom2.GetSymbol())\n",
    "    \n",
    "print(bonds)"
   ]
  },
  {
   "cell_type": "code",
   "execution_count": 5,
   "metadata": {},
   "outputs": [
    {
     "data": {
      "image/png": "[encoded data removed]",
      "text/plain": [
       "<rdkit.Chem.rdchem.Mol at 0x7f62b014e530>"
      ]
     },
     "execution_count": 5,
     "metadata": {},
     "output_type": "execute_result"
    }
   ],
   "source": [
    "from rdkit.Chem.Draw import IPythonConsole\n",
    "IPythonConsole.drawOptions.addAtomIndices = True\n",
    "mol"
   ]
  },
  {
   "cell_type": "markdown",
   "metadata": {},
   "source": [
    "# Dictionary"
   ]
  },
  {
   "cell_type": "code",
   "execution_count": 6,
   "metadata": {},
   "outputs": [
    {
     "name": "stdout",
     "output_type": "stream",
     "text": [
      "{'MolWt': 46.06900000000002, 'GetFormalCharge': 0, 'AtomSymbols': ['C', 'C', 'O', 'H', 'H', 'H', 'H', 'H', 'H']}\n",
      "46.06900000000002\n"
     ]
    }
   ],
   "source": [
    "# Example 1\n",
    "from rdkit.Chem.Descriptors import MolWt, NumRadicalElectrons\n",
    "from rdkit.Chem.rdmolops import GetFormalCharge\n",
    "# integer, float, string can be dictionary 'keys' which are used for indexing\n",
    "mol_properties = {}\n",
    "mol_properties['MolWt'] = MolWt(mol)\n",
    "mol_properties['GetFormalCharge'] = GetFormalCharge(mol)\n",
    "mol_properties['AtomSymbols'] = [atom.GetSymbol() for atom in mol.GetAtoms()]\n",
    "\n",
    "print(mol_properties)\n",
    "print(mol_properties['MolWt'])"
   ]
  },
  {
   "cell_type": "code",
   "execution_count": 7,
   "metadata": {},
   "outputs": [
    {
     "name": "stdout",
     "output_type": "stream",
     "text": [
      "MolWt 46.06900000000002\n",
      "GetFormalCharge 0\n",
      "AtomSymbols ['C', 'C', 'O', 'H', 'H', 'H', 'H', 'H', 'H']\n"
     ]
    }
   ],
   "source": [
    "#dictionary keys\n",
    "for key in mol_properties.keys():\n",
    "    print(key, mol_properties[key])"
   ]
  },
  {
   "cell_type": "code",
   "execution_count": 12,
   "metadata": {},
   "outputs": [
    {
     "name": "stdout",
     "output_type": "stream",
     "text": [
      "0 C\n",
      "1 C\n",
      "2 O\n",
      "3 H\n",
      "4 H\n",
      "5 H\n",
      "6 H\n",
      "7 H\n",
      "8 H\n",
      "{'C': [0, 1], 'H': [3, 4, 5, 6, 7, 8], 'O': [2]}\n",
      "{'C': [0, 1], 'O': [2], 'H': [3, 4, 5, 6, 7, 8]}\n",
      "{'C': [0, 1], 'O': [2], 'H': [3, 4, 5, 6, 7, 8]}\n"
     ]
    }
   ],
   "source": [
    "#Example 2\n",
    "atom_dict = {}\n",
    "\n",
    "atom_dict['C'] = []\n",
    "atom_dict['H'] = []\n",
    "atom_dict['O'] = []\n",
    "for i, atom in enumerate(mol.GetAtoms()):\n",
    "    print(i, atom.GetSymbol())\n",
    "    atom_dict[atom.GetSymbol()].append(i)\n",
    "    \n",
    "print(atom_dict)\n",
    "    \n",
    "## --- OR ---\n",
    "atom_dict2 = {}\n",
    "mol_all_elements = list(set(atom.GetSymbol() for atom in mol.GetAtoms()))\n",
    "\n",
    "for element in mol_all_elements:\n",
    "    atom_dict2[element] = [i for i, atom in enumerate(mol.GetAtoms()) \\\n",
    "                          if atom.GetSymbol() == element]\n",
    "print(atom_dict2)\n",
    "\n",
    "## --- OR ---\n",
    "atom_dict3 = {}\n",
    "for i, atom in enumerate(mol.GetAtoms()):\n",
    "    #atom_dict3[atom.GetSymbol()].append(i)\n",
    "    try:\n",
    "        atom_dict3[atom.GetSymbol()].append(i)\n",
    "    except KeyError:\n",
    "        atom_dict3[atom.GetSymbol()] = [i]\n",
    "    \n",
    "\n",
    "print(atom_dict3)\n",
    "\n",
    "# Please let me know after the meeting if you know any better ways to do this"
   ]
  },
  {
   "cell_type": "markdown",
   "metadata": {},
   "source": [
    "# Exercise 1"
   ]
  },
  {
   "cell_type": "markdown",
   "metadata": {},
   "source": [
    "Make a dictionary of the bonds of the molecule 'CCO'\n",
    "\n",
    "Keys: bond types (C-C, C-H, etc.), each key has a list of tuples of atom indices.\n",
    "\n",
    "Bond types should be in an alphabetical order (e.g. H-C --> C-H)"
   ]
  },
  {
   "cell_type": "code",
   "execution_count": 22,
   "metadata": {},
   "outputs": [
    {
     "name": "stdout",
     "output_type": "stream",
     "text": [
      "['C-C', 'C-O', 'C-H', 'C-H', 'C-H', 'C-H', 'C-H', 'H-O']\n"
     ]
    }
   ],
   "source": [
    "mol = Chem.MolFromSmiles('CCO')\n",
    "mol = Chem.AddHs(mol)\n",
    "\n",
    "bonds = []\n",
    "bond_types = []\n",
    "\n",
    "for bond in mol.GetBonds():\n",
    "    a1_indx = bond.GetBeginAtom().GetIdx()\n",
    "    a2_indx = bond.GetEndAtom().GetIdx()\n",
    "    a1, a2 = mol.GetAtomWithIdx(a1_indx).GetSymbol(), mol.GetAtomWithIdx(a2_indx).GetSymbol()\n",
    "\n",
    "    bond_type = \"-\".join(sorted([a1, a2]))\n",
    "                         \n",
    "    bonds.append([a1_indx, a2_indx])\n",
    "    bond_types.append(bond_type)\n",
    "    \n",
    "print(bond_types)\n",
    "    \n"
   ]
  },
  {
   "cell_type": "markdown",
   "metadata": {},
   "source": [
    "# PubChemPy"
   ]
  },
  {
   "cell_type": "markdown",
   "metadata": {},
   "source": [
    "In the data experimentalists give us or in experimental databases, molecules are usually described as IUPAC name or CAS number rather than SMILES. So, I wanted to cover PubChemPy which is one of the ways to convert IUPAC name or CAS number into SMILES. Also, molecular properties can be obtained in dictionary format."
   ]
  },
  {
   "cell_type": "code",
   "execution_count": 23,
   "metadata": {},
   "outputs": [
    {
     "name": "stdout",
     "output_type": "stream",
     "text": [
      "dict_keys(['atom_stereo_count', 'atoms', 'bond_stereo_count', 'bonds', 'cactvs_fingerprint', 'canonical_smiles', 'charge', 'cid', 'complexity', 'conformer_id_3d', 'conformer_rmsd_3d', 'coordinate_type', 'covalent_unit_count', 'defined_atom_stereo_count', 'defined_bond_stereo_count', 'effective_rotor_count_3d', 'elements', 'exact_mass', 'feature_selfoverlap_3d', 'fingerprint', 'h_bond_acceptor_count', 'h_bond_donor_count', 'heavy_atom_count', 'inchi', 'inchikey', 'isomeric_smiles', 'isotope_atom_count', 'iupac_name', 'mmff94_energy_3d', 'mmff94_partial_charges_3d', 'molecular_formula', 'molecular_weight', 'monoisotopic_mass', 'multipoles_3d', 'pharmacophore_features_3d', 'record', 'rotatable_bond_count', 'shape_fingerprint_3d', 'shape_selfoverlap_3d', 'tpsa', 'undefined_atom_stereo_count', 'undefined_bond_stereo_count', 'volume_3d', 'xlogp'])\n",
      "-------------------\n",
      "CN1C=NC2=C1C(=O)N(C(=O)N2C)C\n",
      "CN1C=NC2=C1C(=O)N(C(=O)N2C)C\n",
      "-------------------\n",
      "{'canonical_smiles': 'CN1C=NC2=C1C(=O)N(C(=O)N2C)C', 'tpsa': 58.4, 'atoms': [{'aid': 1, 'number': 8, 'element': 'O', 'x': 3.732, 'y': 2}, {'aid': 2, 'number': 8, 'element': 'O', 'x': 2, 'y': -1}, {'aid': 3, 'number': 7, 'element': 'N', 'x': 3.732, 'y': -1}, {'aid': 4, 'number': 7, 'element': 'N', 'x': 5.5443, 'y': 0.8047}, {'aid': 5, 'number': 7, 'element': 'N', 'x': 2.866, 'y': 0.5}, {'aid': 6, 'number': 7, 'element': 'N', 'x': 5.5443, 'y': -0.8047}, {'aid': 7, 'number': 6, 'element': 'C', 'x': 4.5981, 'y': 0.5}, {'aid': 8, 'number': 6, 'element': 'C', 'x': 4.5981, 'y': -0.5}, {'aid': 9, 'number': 6, 'element': 'C', 'x': 3.732, 'y': 1}, {'aid': 10, 'number': 6, 'element': 'C', 'x': 2.866, 'y': -0.5}, {'aid': 11, 'number': 6, 'element': 'C', 'x': 6.1279, 'y': 0}, {'aid': 12, 'number': 6, 'element': 'C', 'x': 3.732, 'y': -2}, {'aid': 13, 'number': 6, 'element': 'C', 'x': 5.855, 'y': 1.7552}, {'aid': 14, 'number': 6, 'element': 'C', 'x': 2, 'y': 1}, {'aid': 15, 'number': 1, 'element': 'H', 'x': 6.7479, 'y': 0}, {'aid': 16, 'number': 1, 'element': 'H', 'x': 3.112, 'y': -2}, {'aid': 17, 'number': 1, 'element': 'H', 'x': 3.732, 'y': -2.62}, {'aid': 18, 'number': 1, 'element': 'H', 'x': 4.352, 'y': -2}, {'aid': 19, 'number': 1, 'element': 'H', 'x': 6.4443, 'y': 1.5626}, {'aid': 20, 'number': 1, 'element': 'H', 'x': 6.0476, 'y': 2.3446}, {'aid': 21, 'number': 1, 'element': 'H', 'x': 5.2656, 'y': 1.9479}, {'aid': 22, 'number': 1, 'element': 'H', 'x': 2.31, 'y': 1.5369}, {'aid': 23, 'number': 1, 'element': 'H', 'x': 1.4631, 'y': 1.31}, {'aid': 24, 'number': 1, 'element': 'H', 'x': 1.69, 'y': 0.4631}], 'bonds': [{'aid1': 1, 'aid2': 9, 'order': 2}, {'aid1': 2, 'aid2': 10, 'order': 2}, {'aid1': 3, 'aid2': 8, 'order': 1, 'style': 8}, {'aid1': 3, 'aid2': 10, 'order': 1, 'style': 8}, {'aid1': 3, 'aid2': 12, 'order': 1}, {'aid1': 4, 'aid2': 7, 'order': 1, 'style': 8}, {'aid1': 4, 'aid2': 11, 'order': 1, 'style': 8}, {'aid1': 4, 'aid2': 13, 'order': 1}, {'aid1': 5, 'aid2': 9, 'order': 1, 'style': 8}, {'aid1': 5, 'aid2': 10, 'order': 1, 'style': 8}, {'aid1': 5, 'aid2': 14, 'order': 1}, {'aid1': 6, 'aid2': 8, 'order': 1, 'style': 8}, {'aid1': 6, 'aid2': 11, 'order': 2, 'style': 8}, {'aid1': 7, 'aid2': 8, 'order': 2, 'style': 8}, {'aid1': 7, 'aid2': 9, 'order': 1, 'style': 8}, {'aid1': 11, 'aid2': 15, 'order': 1}, {'aid1': 12, 'aid2': 16, 'order': 1}, {'aid1': 12, 'aid2': 17, 'order': 1}, {'aid1': 12, 'aid2': 18, 'order': 1}, {'aid1': 13, 'aid2': 19, 'order': 1}, {'aid1': 13, 'aid2': 20, 'order': 1}, {'aid1': 13, 'aid2': 21, 'order': 1}, {'aid1': 14, 'aid2': 22, 'order': 1}, {'aid1': 14, 'aid2': 23, 'order': 1}, {'aid1': 14, 'aid2': 24, 'order': 1}]}\n"
     ]
    }
   ],
   "source": [
    "import pubchempy as pcp\n",
    "\n",
    "# Since pcp.get_compounds returns a list of compounds (usually one compound, but sometimes >1), so index 0 is called\n",
    "glucose = pcp.get_compounds('glucose','name')[0]\n",
    "caffeine = pcp.get_compounds('58-08-2','name')[0]\n",
    "\n",
    "caffeine_dict = caffeine.to_dict()\n",
    "print(caffeine_dict.keys())\n",
    "print('-------------------')\n",
    "print(caffeine_dict['canonical_smiles'])\n",
    "print(caffeine.canonical_smiles)\n",
    "print('-------------------')\n",
    "\n",
    "print(caffeine.to_dict(properties = ['canonical_smiles', 'tpsa','atoms', 'bonds']))"
   ]
  },
  {
   "cell_type": "markdown",
   "metadata": {},
   "source": [
    "# Read and write json file"
   ]
  },
  {
   "cell_type": "code",
   "execution_count": 24,
   "metadata": {},
   "outputs": [
    {
     "name": "stdout",
     "output_type": "stream",
     "text": [
      "atom_stereo_count 0\n",
      "atoms [{'aid': 1, 'number': 8, 'element': 'O', 'x': 3.732, 'y': 2}, {'aid': 2, 'number': 8, 'element': 'O', 'x': 2, 'y': -1}, {'aid': 3, 'number': 7, 'element': 'N', 'x': 3.732, 'y': -1}, {'aid': 4, 'number': 7, 'element': 'N', 'x': 5.5443, 'y': 0.8047}, {'aid': 5, 'number': 7, 'element': 'N', 'x': 2.866, 'y': 0.5}, {'aid': 6, 'number': 7, 'element': 'N', 'x': 5.5443, 'y': -0.8047}, {'aid': 7, 'number': 6, 'element': 'C', 'x': 4.5981, 'y': 0.5}, {'aid': 8, 'number': 6, 'element': 'C', 'x': 4.5981, 'y': -0.5}, {'aid': 9, 'number': 6, 'element': 'C', 'x': 3.732, 'y': 1}, {'aid': 10, 'number': 6, 'element': 'C', 'x': 2.866, 'y': -0.5}, {'aid': 11, 'number': 6, 'element': 'C', 'x': 6.1279, 'y': 0}, {'aid': 12, 'number': 6, 'element': 'C', 'x': 3.732, 'y': -2}, {'aid': 13, 'number': 6, 'element': 'C', 'x': 5.855, 'y': 1.7552}, {'aid': 14, 'number': 6, 'element': 'C', 'x': 2, 'y': 1}, {'aid': 15, 'number': 1, 'element': 'H', 'x': 6.7479, 'y': 0}, {'aid': 16, 'number': 1, 'element': 'H', 'x': 3.112, 'y': -2}, {'aid': 17, 'number': 1, 'element': 'H', 'x': 3.732, 'y': -2.62}, {'aid': 18, 'number': 1, 'element': 'H', 'x': 4.352, 'y': -2}, {'aid': 19, 'number': 1, 'element': 'H', 'x': 6.4443, 'y': 1.5626}, {'aid': 20, 'number': 1, 'element': 'H', 'x': 6.0476, 'y': 2.3446}, {'aid': 21, 'number': 1, 'element': 'H', 'x': 5.2656, 'y': 1.9479}, {'aid': 22, 'number': 1, 'element': 'H', 'x': 2.31, 'y': 1.5369}, {'aid': 23, 'number': 1, 'element': 'H', 'x': 1.4631, 'y': 1.31}, {'aid': 24, 'number': 1, 'element': 'H', 'x': 1.69, 'y': 0.4631}]\n",
      "bond_stereo_count 0\n",
      "bonds [{'aid1': 1, 'aid2': 9, 'order': 2}, {'aid1': 2, 'aid2': 10, 'order': 2}, {'aid1': 3, 'aid2': 8, 'order': 1, 'style': 8}, {'aid1': 3, 'aid2': 10, 'order': 1, 'style': 8}, {'aid1': 3, 'aid2': 12, 'order': 1}, {'aid1': 4, 'aid2': 7, 'order': 1, 'style': 8}, {'aid1': 4, 'aid2': 11, 'order': 1, 'style': 8}, {'aid1': 4, 'aid2': 13, 'order': 1}, {'aid1': 5, 'aid2': 9, 'order': 1, 'style': 8}, {'aid1': 5, 'aid2': 10, 'order': 1, 'style': 8}, {'aid1': 5, 'aid2': 14, 'order': 1}, {'aid1': 6, 'aid2': 8, 'order': 1, 'style': 8}, {'aid1': 6, 'aid2': 11, 'order': 2, 'style': 8}, {'aid1': 7, 'aid2': 8, 'order': 2, 'style': 8}, {'aid1': 7, 'aid2': 9, 'order': 1, 'style': 8}, {'aid1': 11, 'aid2': 15, 'order': 1}, {'aid1': 12, 'aid2': 16, 'order': 1}, {'aid1': 12, 'aid2': 17, 'order': 1}, {'aid1': 12, 'aid2': 18, 'order': 1}, {'aid1': 13, 'aid2': 19, 'order': 1}, {'aid1': 13, 'aid2': 20, 'order': 1}, {'aid1': 13, 'aid2': 21, 'order': 1}, {'aid1': 14, 'aid2': 22, 'order': 1}, {'aid1': 14, 'aid2': 23, 'order': 1}, {'aid1': 14, 'aid2': 24, 'order': 1}]\n",
      "cactvs_fingerprint 11000000011100111011000000000000000000000000000000000000000000000000000000000000000000000000000000000000000000000000000000000000000000000000000101100000000000000000000000000000001011000000000000000000000000000000000000000000000000000000000001011000000000011000000000000000000000000001111000000000000000000000000000000000000000000000100000001000000000011001011000000100000001111011000000010111000011000001000000000000101010000000000100000111011100010111010000000000100000001000000000101101000101110001000010100000000000010101000000000001101010000101010001000000100000000100100000001000010000000100100000100000000101000000000010001000000010000000011100100010010000000000000001100000000000000000000000000000000000000000000000000000000000000000000000000000000000000000000000000000000000000000000000000000000000000000000000000000000000000000000000000000000000000000000000000000000000000\n",
      "canonical_smiles CN1C=NC2=C1C(=O)N(C(=O)N2C)C\n",
      "charge 0\n",
      "cid 2519\n",
      "complexity 293\n",
      "conformer_id_3d None\n",
      "conformer_rmsd_3d None\n",
      "coordinate_type 2d\n",
      "covalent_unit_count 1\n",
      "defined_atom_stereo_count 0\n",
      "defined_bond_stereo_count 0\n",
      "effective_rotor_count_3d None\n",
      "elements ['O', 'O', 'N', 'N', 'N', 'N', 'C', 'C', 'C', 'C', 'C', 'C', 'C', 'C', 'H', 'H', 'H', 'H', 'H', 'H', 'H', 'H', 'H', 'H']\n",
      "exact_mass 194.08037557\n",
      "feature_selfoverlap_3d None\n",
      "fingerprint 00000371C073B0000000000000000000000000000001600000002C0000000000000058018000001E0000000000080801960407B0170C1000A8010771740080802D1710A0015001A854408048084048201400880807224000600000000000000000000000000000000000000000000000000000\n",
      "h_bond_acceptor_count 3\n",
      "h_bond_donor_count 0\n",
      "heavy_atom_count 14\n",
      "inchi InChI=1S/C8H10N4O2/c1-10-4-9-6-5(10)7(13)12(3)8(14)11(6)2/h4H,1-3H3\n",
      "inchikey RYYVLZVUVIJVGH-UHFFFAOYSA-N\n",
      "isomeric_smiles CN1C=NC2=C1C(=O)N(C(=O)N2C)C\n",
      "isotope_atom_count 0\n",
      "iupac_name 1,3,7-trimethylpurine-2,6-dione\n",
      "mmff94_energy_3d None\n",
      "mmff94_partial_charges_3d None\n",
      "molecular_formula C8H10N4O2\n",
      "molecular_weight 194.19\n",
      "monoisotopic_mass 194.08037557\n",
      "multipoles_3d None\n",
      "pharmacophore_features_3d None\n",
      "record {'id': {'id': {'cid': 2519}}, 'atoms': {'aid': [1, 2, 3, 4, 5, 6, 7, 8, 9, 10, 11, 12, 13, 14, 15, 16, 17, 18, 19, 20, 21, 22, 23, 24], 'element': [8, 8, 7, 7, 7, 7, 6, 6, 6, 6, 6, 6, 6, 6, 1, 1, 1, 1, 1, 1, 1, 1, 1, 1]}, 'bonds': {'aid1': [1, 2, 3, 3, 3, 4, 4, 4, 5, 5, 5, 6, 6, 7, 7, 11, 12, 12, 12, 13, 13, 13, 14, 14, 14], 'aid2': [9, 10, 8, 10, 12, 7, 11, 13, 9, 10, 14, 8, 11, 8, 9, 15, 16, 17, 18, 19, 20, 21, 22, 23, 24], 'order': [2, 2, 1, 1, 1, 1, 1, 1, 1, 1, 1, 1, 2, 2, 1, 1, 1, 1, 1, 1, 1, 1, 1, 1, 1]}, 'coords': [{'type': [1, 5, 255], 'aid': [1, 2, 3, 4, 5, 6, 7, 8, 9, 10, 11, 12, 13, 14, 15, 16, 17, 18, 19, 20, 21, 22, 23, 24], 'conformers': [{'x': [3.732, 2, 3.732, 5.5443, 2.866, 5.5443, 4.5981, 4.5981, 3.732, 2.866, 6.1279, 3.732, 5.855, 2, 6.7479, 3.112, 3.732, 4.352, 6.4443, 6.0476, 5.2656, 2.31, 1.4631, 1.69], 'y': [2, -1, -1, 0.8047, 0.5, -0.8047, 0.5, -0.5, 1, -0.5, 0, -2, 1.7552, 1, 0, -2, -2.62, -2, 1.5626, 2.3446, 1.9479, 1.5369, 1.31, 0.4631], 'style': {'annotation': [8, 8, 8, 8, 8, 8, 8, 8, 8, 8], 'aid1': [3, 3, 4, 4, 5, 5, 6, 6, 7, 7], 'aid2': [8, 10, 7, 11, 9, 10, 8, 11, 8, 9]}}]}], 'charge': 0, 'props': [{'urn': {'label': 'Compound', 'name': 'Canonicalized', 'datatype': 5, 'release': '2019.01.04'}, 'value': {'ival': 1}}, {'urn': {'label': 'Compound Complexity', 'datatype': 7, 'implementation': 'E_COMPLEXITY', 'version': '3.4.6.11', 'software': 'Cactvs', 'source': 'xemistry.com', 'release': '2019.06.18'}, 'value': {'fval': 293}}, {'urn': {'label': 'Count', 'name': 'Hydrogen Bond Acceptor', 'datatype': 5, 'implementation': 'E_NHACCEPTORS', 'version': '3.4.6.11', 'software': 'Cactvs', 'source': 'xemistry.com', 'release': '2019.06.18'}, 'value': {'ival': 3}}, {'urn': {'label': 'Count', 'name': 'Hydrogen Bond Donor', 'datatype': 5, 'implementation': 'E_NHDONORS', 'version': '3.4.6.11', 'software': 'Cactvs', 'source': 'xemistry.com', 'release': '2019.06.18'}, 'value': {'ival': 0}}, {'urn': {'label': 'Count', 'name': 'Rotatable Bond', 'datatype': 5, 'implementation': 'E_NROTBONDS', 'version': '3.4.6.11', 'software': 'Cactvs', 'source': 'xemistry.com', 'release': '2019.06.18'}, 'value': {'ival': 0}}, {'urn': {'label': 'Fingerprint', 'name': 'SubStructure Keys', 'datatype': 16, 'parameters': 'extended 2', 'implementation': 'E_SCREEN', 'version': '3.4.6.11', 'software': 'Cactvs', 'source': 'xemistry.com', 'release': '2019.06.18'}, 'value': {'binary': '00000371C073B0000000000000000000000000000001600000002C0000000000000058018000001E0000000000080801960407B0170C1000A8010771740080802D1710A0015001A854408048084048201400880807224000600000000000000000000000000000000000000000000000000000'}}, {'urn': {'label': 'IUPAC Name', 'name': 'Allowed', 'datatype': 1, 'version': '2.6.6', 'software': 'LexiChem', 'source': 'openeye.com', 'release': '2019.06.18'}, 'value': {'sval': '1,3,7-trimethylpurine-2,6-dione'}}, {'urn': {'label': 'IUPAC Name', 'name': 'CAS-like Style', 'datatype': 1, 'version': '2.6.6', 'software': 'LexiChem', 'source': 'openeye.com', 'release': '2019.06.18'}, 'value': {'sval': '1,3,7-trimethylpurine-2,6-dione'}}, {'urn': {'label': 'IUPAC Name', 'name': 'Markup', 'datatype': 1, 'version': '2.6.6', 'software': 'LexiChem', 'source': 'openeye.com', 'release': '2019.06.18'}, 'value': {'sval': '1,3,7-trimethylpurine-2,6-dione'}}, {'urn': {'label': 'IUPAC Name', 'name': 'Preferred', 'datatype': 1, 'version': '2.6.6', 'software': 'LexiChem', 'source': 'openeye.com', 'release': '2019.06.18'}, 'value': {'sval': '1,3,7-trimethylpurine-2,6-dione'}}, {'urn': {'label': 'IUPAC Name', 'name': 'Systematic', 'datatype': 1, 'version': '2.6.6', 'software': 'LexiChem', 'source': 'openeye.com', 'release': '2019.06.18'}, 'value': {'sval': '1,3,7-trimethylpurine-2,6-dione'}}, {'urn': {'label': 'IUPAC Name', 'name': 'Traditional', 'datatype': 1, 'version': '2.6.6', 'software': 'LexiChem', 'source': 'openeye.com', 'release': '2019.06.18'}, 'value': {'sval': 'caffeine'}}, {'urn': {'label': 'InChI', 'name': 'Standard', 'datatype': 1, 'version': '1.0.5', 'software': 'InChI', 'source': 'iupac.org', 'release': '2019.06.18'}, 'value': {'sval': 'InChI=1S/C8H10N4O2/c1-10-4-9-6-5(10)7(13)12(3)8(14)11(6)2/h4H,1-3H3'}}, {'urn': {'label': 'InChIKey', 'name': 'Standard', 'datatype': 1, 'version': '1.0.5', 'software': 'InChI', 'source': 'iupac.org', 'release': '2019.06.18'}, 'value': {'sval': 'RYYVLZVUVIJVGH-UHFFFAOYSA-N'}}, {'urn': {'label': 'Log P', 'name': 'XLogP3', 'datatype': 7, 'version': '3.0', 'source': 'sioc-ccbg.ac.cn', 'release': '2019.06.18'}, 'value': {'fval': -0.1}}, {'urn': {'label': 'Mass', 'name': 'Exact', 'datatype': 1, 'version': '2.1', 'software': 'PubChem', 'source': 'ncbi.nlm.nih.gov', 'release': '2021.05.07'}, 'value': {'sval': '194.08037557'}}, {'urn': {'label': 'Molecular Formula', 'datatype': 1, 'version': '2.1', 'software': 'PubChem', 'source': 'ncbi.nlm.nih.gov', 'release': '2019.06.18'}, 'value': {'sval': 'C8H10N4O2'}}, {'urn': {'label': 'Molecular Weight', 'datatype': 1, 'version': '2.1', 'software': 'PubChem', 'source': 'ncbi.nlm.nih.gov', 'release': '2021.05.07'}, 'value': {'sval': '194.19'}}, {'urn': {'label': 'SMILES', 'name': 'Canonical', 'datatype': 1, 'version': '2.1.5', 'software': 'OEChem', 'source': 'openeye.com', 'release': '2019.06.18'}, 'value': {'sval': 'CN1C=NC2=C1C(=O)N(C(=O)N2C)C'}}, {'urn': {'label': 'SMILES', 'name': 'Isomeric', 'datatype': 1, 'version': '2.1.5', 'software': 'OEChem', 'source': 'openeye.com', 'release': '2019.06.18'}, 'value': {'sval': 'CN1C=NC2=C1C(=O)N(C(=O)N2C)C'}}, {'urn': {'label': 'Topological', 'name': 'Polar Surface Area', 'datatype': 7, 'implementation': 'E_TPSA', 'version': '3.4.6.11', 'software': 'Cactvs', 'source': 'xemistry.com', 'release': '2019.06.18'}, 'value': {'fval': 58.4}}, {'urn': {'label': 'Weight', 'name': 'MonoIsotopic', 'datatype': 1, 'version': '2.1', 'software': 'PubChem', 'source': 'ncbi.nlm.nih.gov', 'release': '2021.05.07'}, 'value': {'sval': '194.08037557'}}], 'count': {'heavy_atom': 14, 'atom_chiral': 0, 'atom_chiral_def': 0, 'atom_chiral_undef': 0, 'bond_chiral': 0, 'bond_chiral_def': 0, 'bond_chiral_undef': 0, 'isotope_atom': 0, 'covalent_unit': 1, 'tautomers': -1}}\n",
      "rotatable_bond_count 0\n",
      "shape_fingerprint_3d None\n",
      "shape_selfoverlap_3d None\n",
      "tpsa 58.4\n",
      "undefined_atom_stereo_count 0\n",
      "undefined_bond_stereo_count 0\n",
      "volume_3d None\n",
      "xlogp -0.1\n"
     ]
    }
   ],
   "source": [
    "import json\n",
    "#write json\n",
    "with open('./Week_3/caffeine.json', 'w') as f:\n",
    "    json.dump(caffeine_dict, f, indent = 4)\n",
    "\n",
    "#read json\n",
    "with open('./Week_3/caffeine.json','r') as f:\n",
    "    data = json.load(f)\n",
    "    for key in data.keys():\n",
    "        print(key, data[key])"
   ]
  },
  {
   "cell_type": "markdown",
   "metadata": {},
   "source": [
    "# Exercise 2"
   ]
  },
  {
   "cell_type": "markdown",
   "metadata": {},
   "source": [
    "(1) open ./Week_3/smi_list_from_Week_2, parse a list of smiles \n",
    "\n",
    "(2) make dictionary, classify them in terms of the total number of atoms\n",
    "\n",
    "The dictionary should look like:\n",
    "\n",
    "{ 5: ['O=CO', 'C'], 10: ['CCO[C-]=O', 'C=C=CC', 'C=COC', 'CCOO', 'COOC', 'C1COC1', 'CC1CO1', 'CC#CC', 'O=C1C=CCO1', 'CC1=CC1', 'c1ccccc#1', 'O=C1OCCO1', 'C=C1CC1', 'C#CC(=O)OC', 'C#CC#CC#CC#C', 'CC(C)=O', 'C#CCC', 'OCCO', 'CCC=O', 'O=C1CC(=O)C1'], ... }\n",
    "\n",
    "(3) Write ./Week_3/exercise_2.json ."
   ]
  },
  {
   "cell_type": "code",
   "execution_count": 29,
   "metadata": {},
   "outputs": [
    {
     "name": "stderr",
     "output_type": "stream",
     "text": [
      "RDKit WARNING: [17:12:55] WARNING: not removing hydrogen atom without neighbors\n"
     ]
    }
   ],
   "source": [
    "\n",
    "raw_smiles = []\n",
    "tot_atoms = []\n",
    "\n",
    "with open('./Week_3/smi_list_from_Week_2', 'r') as f:\n",
    "    for line in f:\n",
    "        smiles = line[:-1]    \n",
    "        mol = Chem.MolFromSmiles(smiles)\n",
    "        mol = Chem.AddHs(mol)\n",
    "        tot_atoms.append(len(mol.GetAtoms()))\n",
    "        \n",
    "tot_atoms = list(set(tot_atoms))\n",
    "        "
   ]
  },
  {
   "cell_type": "markdown",
   "metadata": {},
   "source": [
    "# Assignment - Week 3"
   ]
  },
  {
   "cell_type": "markdown",
   "metadata": {},
   "source": [
    "(1) open ./Week_3/smi_list_from_Week_2, parse a list of smiles \n",
    "\n",
    "\n",
    "(2) open ./Week_3/Week_3_iupac_name_cas_no, convert iupac or cas number to a smiles string\n",
    "\n",
    "If pubchempy returns multiple compounds, please use the 0th one. \n",
    "\n",
    "If pubchempy returns no compounds, please just skip it.\n",
    "\n",
    "\n",
    "(3) Merge (1) and (2), remove duplicates\n",
    "\n",
    "Please note that the canonical smiles from PubChem needs to be 're-canonicalized' in RDKit to remove duplicates\n",
    "\n",
    "\n",
    "(4) Collect the molecules that consist of C or H or O or N (and no other elements) and not more than 20 nonhydrogen atoms (mol.GetNumHeavyAtoms()), classify them in terms of stoichiometry\n",
    "\n",
    "The dictionary should look like:\n",
    "\n",
    "{'C11H22O2': ['CCCCCCC(=O)OC(C)CC', 'CCCCCCC1COC(C)(C)O1', 'CCCCC(CCCC)C(=O)OC', 'CCCCC(CC)COC(=O)CC', 'CCCCCCCCCOC(C)=O', 'CCCCCCOC(=O)CCCC', 'CCCCCOC(=O)CCCCC', 'CCCCCCCOC(=O)CCC', 'CCCCC(=O)OC(C)CCCC', 'CCCCCCCC(=O)OCCC', 'CCCCCCC(C)(C)CC(=O)O', 'CCCCCCC(=O)OCCCC', 'CCCCCCC1(C)OCCCO1', 'CCCCCCCC(=O)OC(C)C', 'CC(C)CCCC(C)CCC(=O)O', 'CCCCCCC(=O)OC(C)(C)C', 'CCCCCCCCOC(=O)CC', 'CCCCCC(C)OC(=O)CCC', 'CCCCCCCCCCC(=O)O', 'CCCCCCCCC(C)C(=O)O', 'CCCCCCCCCCOC=O', 'CCCCCCCCC(=O)OCC', 'CCOC(=O)CCCCCC(C)C', 'CCOC(=O)CCCCC(C)CC', 'CCCCCCCCCC(=O)OC', 'CCCCCCCOC(=O)C(C)C'], 'H2O': ['O'], ... }\n",
    "\n",
    "Avoid writing '1's. e.g.) H2O1 --> H2O\n",
    "\n",
    "Follow alphabetical orders. e.g.) 'C8H10N4O2'\n",
    "\n",
    "(5) Write ./Week_3/Assignment.json .\n"
   ]
  },
  {
   "cell_type": "code",
   "execution_count": null,
   "metadata": {},
   "outputs": [],
   "source": [
    "# If pubchempy returns no compounds, please just skip it. Perhaps try-except can be used?\n",
    "# Maybe many molecules are skipped. I brought the molecules quite randomly including very tricky ones, \n",
    "# and PubChemPy is not always perfect.\n",
    "a = []\n",
    "print(a[0]) #IndexError\n",
    "\n",
    "'''\n",
    "try:\n",
    "   # do something\n",
    "except IndexError:\n",
    "    continue # skip this cycle and proceed to the next cycle\n",
    "'''"
   ]
  }
 ],
 "metadata": {
  "kernelspec": {
   "display_name": "Python [conda env:rdKit]",
   "language": "python",
   "name": "conda-env-rdKit-py"
  },
  "language_info": {
   "codemirror_mode": {
    "name": "ipython",
    "version": 3
   },
   "file_extension": ".py",
   "mimetype": "text/x-python",
   "name": "python",
   "nbconvert_exporter": "python",
   "pygments_lexer": "ipython3",
   "version": "3.6.13"
  }
 },
 "nbformat": 4,
 "nbformat_minor": 5
}
